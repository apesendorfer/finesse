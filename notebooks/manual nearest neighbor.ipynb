{
 "cells": [
  {
   "cell_type": "code",
   "execution_count": 4,
   "metadata": {},
   "outputs": [],
   "source": [
    "#import fasttext and numpy\n",
    "\n",
    "import fasttext\n",
    "import numpy as np"
   ]
  },
  {
   "cell_type": "code",
   "execution_count": 20,
   "metadata": {},
   "outputs": [],
   "source": [
    "#load fasttext model\n",
    "\n",
    "model = fasttext.load_model(\"/Users/alex/result/cc.en.300.bin\")"
   ]
  },
  {
   "cell_type": "code",
   "execution_count": 53,
   "metadata": {},
   "outputs": [],
   "source": [
    "#create numpy array to store word vectors\n",
    "\n",
    "#currently set to store top 1000 words as their 100 dimensional word vectors\n",
    "\n",
    "arr = np.ndarray(shape=(1000, 300))"
   ]
  },
  {
   "cell_type": "code",
   "execution_count": 54,
   "metadata": {},
   "outputs": [
    {
     "name": "stdout",
     "output_type": "stream",
     "text": [
      "[[0. 0. 0. ... 0. 0. 0.]\n",
      " [0. 0. 0. ... 0. 0. 0.]\n",
      " [0. 0. 0. ... 0. 0. 0.]\n",
      " ...\n",
      " [0. 0. 0. ... 0. 0. 0.]\n",
      " [0. 0. 0. ... 0. 0. 0.]\n",
      " [0. 0. 0. ... 0. 0. 0.]]\n"
     ]
    }
   ],
   "source": [
    "print(arr)"
   ]
  },
  {
   "cell_type": "code",
   "execution_count": 9,
   "metadata": {},
   "outputs": [],
   "source": [
    "#arr[0] = [0,1,2,3,4,5,6,7,8,9]"
   ]
  },
  {
   "cell_type": "code",
   "execution_count": 55,
   "metadata": {},
   "outputs": [
    {
     "name": "stdout",
     "output_type": "stream",
     "text": [
      "[[0. 0. 0. ... 0. 0. 0.]\n",
      " [0. 0. 0. ... 0. 0. 0.]\n",
      " [0. 0. 0. ... 0. 0. 0.]\n",
      " ...\n",
      " [0. 0. 0. ... 0. 0. 0.]\n",
      " [0. 0. 0. ... 0. 0. 0.]\n",
      " [0. 0. 0. ... 0. 0. 0.]]\n"
     ]
    }
   ],
   "source": [
    "print(arr)"
   ]
  },
  {
   "cell_type": "markdown",
   "metadata": {},
   "source": [
    "# Testing cosine similarity function"
   ]
  },
  {
   "cell_type": "code",
   "execution_count": 22,
   "metadata": {},
   "outputs": [],
   "source": [
    "# cosine similarity of word vectors\n",
    "\n",
    "from numpy import dot\n",
    "from numpy.linalg import norm\n",
    "\n",
    "# cos_sim = dot(a, b)/(norm(a)*norm(b))"
   ]
  },
  {
   "cell_type": "code",
   "execution_count": 26,
   "metadata": {},
   "outputs": [
    {
     "name": "stdout",
     "output_type": "stream",
     "text": [
      "0.9962335082737976\n"
     ]
    }
   ],
   "source": [
    "vec = [0, 1, 2, 3, 4, 5, 6, 7, 8, 9]\n",
    "vec2 = [1, 2, 3, 4, 5, 6, 7, 8, 9, 10]\n",
    "\n",
    "cos_sim = dot(vec, vec2)/(norm(vec)*norm(vec2))\n",
    "\n",
    "print(cos_sim)"
   ]
  },
  {
   "cell_type": "markdown",
   "metadata": {},
   "source": [
    "# Get top words from dictionary"
   ]
  },
  {
   "cell_type": "code",
   "execution_count": 44,
   "metadata": {},
   "outputs": [],
   "source": [
    "# Note: 1000 words from https://gist.github.com/deekayen/4148741#file-1-1000-txt\n",
    "\n",
    "f = open(\"1000words/1-1000.txt\", \"r\")"
   ]
  },
  {
   "cell_type": "code",
   "execution_count": 45,
   "metadata": {},
   "outputs": [],
   "source": [
    "words = []\n",
    "for i in range(0, 1000):\n",
    "    words.append(f.readline())"
   ]
  },
  {
   "cell_type": "code",
   "execution_count": 46,
   "metadata": {},
   "outputs": [
    {
     "name": "stdout",
     "output_type": "stream",
     "text": [
      "['the\\n', 'of\\n', 'to\\n', 'and\\n', 'a\\n', 'in\\n', 'is\\n', 'it\\n', 'you\\n', 'that\\n', 'he\\n', 'was\\n', 'for\\n', 'on\\n', 'are\\n', 'with\\n', 'as\\n', 'I\\n', 'his\\n', 'they\\n', 'be\\n', 'at\\n', 'one\\n', 'have\\n', 'this\\n', 'from\\n', 'or\\n', 'had\\n', 'by\\n', 'not\\n', 'word\\n', 'but\\n', 'what\\n', 'some\\n', 'we\\n', 'can\\n', 'out\\n', 'other\\n', 'were\\n', 'all\\n', 'there\\n', 'when\\n', 'up\\n', 'use\\n', 'your\\n', 'how\\n', 'said\\n', 'an\\n', 'each\\n', 'she\\n', 'which\\n', 'do\\n', 'their\\n', 'time\\n', 'if\\n', 'will\\n', 'way\\n', 'about\\n', 'many\\n', 'then\\n', 'them\\n', 'write\\n', 'would\\n', 'like\\n', 'so\\n', 'these\\n', 'her\\n', 'long\\n', 'make\\n', 'thing\\n', 'see\\n', 'him\\n', 'two\\n', 'has\\n', 'look\\n', 'more\\n', 'day\\n', 'could\\n', 'go\\n', 'come\\n', 'did\\n', 'number\\n', 'sound\\n', 'no\\n', 'most\\n', 'people\\n', 'my\\n', 'over\\n', 'know\\n', 'water\\n', 'than\\n', 'call\\n', 'first\\n', 'who\\n', 'may\\n', 'down\\n', 'side\\n', 'been\\n', 'now\\n', 'find\\n', 'any\\n', 'new\\n', 'work\\n', 'part\\n', 'take\\n', 'get\\n', 'place\\n', 'made\\n', 'live\\n', 'where\\n', 'after\\n', 'back\\n', 'little\\n', 'only\\n', 'round\\n', 'man\\n', 'year\\n', 'came\\n', 'show\\n', 'every\\n', 'good\\n', 'me\\n', 'give\\n', 'our\\n', 'under\\n', 'name\\n', 'very\\n', 'through\\n', 'just\\n', 'form\\n', 'sentence\\n', 'great\\n', 'think\\n', 'say\\n', 'help\\n', 'low\\n', 'line\\n', 'differ\\n', 'turn\\n', 'cause\\n', 'much\\n', 'mean\\n', 'before\\n', 'move\\n', 'right\\n', 'boy\\n', 'old\\n', 'too\\n', 'same\\n', 'tell\\n', 'does\\n', 'set\\n', 'three\\n', 'want\\n', 'air\\n', 'well\\n', 'also\\n', 'play\\n', 'small\\n', 'end\\n', 'put\\n', 'home\\n', 'read\\n', 'hand\\n', 'port\\n', 'large\\n', 'spell\\n', 'add\\n', 'even\\n', 'land\\n', 'here\\n', 'must\\n', 'big\\n', 'high\\n', 'such\\n', 'follow\\n', 'act\\n', 'why\\n', 'ask\\n', 'men\\n', 'change\\n', 'went\\n', 'light\\n', 'kind\\n', 'off\\n', 'need\\n', 'house\\n', 'picture\\n', 'try\\n', 'us\\n', 'again\\n', 'animal\\n', 'point\\n', 'mother\\n', 'world\\n', 'near\\n', 'build\\n', 'self\\n', 'earth\\n', 'father\\n', 'head\\n', 'stand\\n', 'own\\n', 'page\\n', 'should\\n', 'country\\n', 'found\\n', 'answer\\n', 'school\\n', 'grow\\n', 'study\\n', 'still\\n', 'learn\\n', 'plant\\n', 'cover\\n', 'food\\n', 'sun\\n', 'four\\n', 'between\\n', 'state\\n', 'keep\\n', 'eye\\n', 'never\\n', 'last\\n', 'let\\n', 'thought\\n', 'city\\n', 'tree\\n', 'cross\\n', 'farm\\n', 'hard\\n', 'start\\n', 'might\\n', 'story\\n', 'saw\\n', 'far\\n', 'sea\\n', 'draw\\n', 'left\\n', 'late\\n', 'run\\n', \"don't\\n\", 'while\\n', 'press\\n', 'close\\n', 'night\\n', 'real\\n', 'life\\n', 'few\\n', 'north\\n', 'open\\n', 'seem\\n', 'together\\n', 'next\\n', 'white\\n', 'children\\n', 'begin\\n', 'got\\n', 'walk\\n', 'example\\n', 'ease\\n', 'paper\\n', 'group\\n', 'always\\n', 'music\\n', 'those\\n', 'both\\n', 'mark\\n', 'often\\n', 'letter\\n', 'until\\n', 'mile\\n', 'river\\n', 'car\\n', 'feet\\n', 'care\\n', 'second\\n', 'book\\n', 'carry\\n', 'took\\n', 'science\\n', 'eat\\n', 'room\\n', 'friend\\n', 'began\\n', 'idea\\n', 'fish\\n', 'mountain\\n', 'stop\\n', 'once\\n', 'base\\n', 'hear\\n', 'horse\\n', 'cut\\n', 'sure\\n', 'watch\\n', 'color\\n', 'face\\n', 'wood\\n', 'main\\n', 'enough\\n', 'plain\\n', 'girl\\n', 'usual\\n', 'young\\n', 'ready\\n', 'above\\n', 'ever\\n', 'red\\n', 'list\\n', 'though\\n', 'feel\\n', 'talk\\n', 'bird\\n', 'soon\\n', 'body\\n', 'dog\\n', 'family\\n', 'direct\\n', 'pose\\n', 'leave\\n', 'song\\n', 'measure\\n', 'door\\n', 'product\\n', 'black\\n', 'short\\n', 'numeral\\n', 'class\\n', 'wind\\n', 'question\\n', 'happen\\n', 'complete\\n', 'ship\\n', 'area\\n', 'half\\n', 'rock\\n', 'order\\n', 'fire\\n', 'south\\n', 'problem\\n', 'piece\\n', 'told\\n', 'knew\\n', 'pass\\n', 'since\\n', 'top\\n', 'whole\\n', 'king\\n', 'space\\n', 'heard\\n', 'best\\n', 'hour\\n', 'better\\n', 'true\\n', 'during\\n', 'hundred\\n', 'five\\n', 'remember\\n', 'step\\n', 'early\\n', 'hold\\n', 'west\\n', 'ground\\n', 'interest\\n', 'reach\\n', 'fast\\n', 'verb\\n', 'sing\\n', 'listen\\n', 'six\\n', 'table\\n', 'travel\\n', 'less\\n', 'morning\\n', 'ten\\n', 'simple\\n', 'several\\n', 'vowel\\n', 'toward\\n', 'war\\n', 'lay\\n', 'against\\n', 'pattern\\n', 'slow\\n', 'center\\n', 'love\\n', 'person\\n', 'money\\n', 'serve\\n', 'appear\\n', 'road\\n', 'map\\n', 'rain\\n', 'rule\\n', 'govern\\n', 'pull\\n', 'cold\\n', 'notice\\n', 'voice\\n', 'unit\\n', 'power\\n', 'town\\n', 'fine\\n', 'certain\\n', 'fly\\n', 'fall\\n', 'lead\\n', 'cry\\n', 'dark\\n', 'machine\\n', 'note\\n', 'wait\\n', 'plan\\n', 'figure\\n', 'star\\n', 'box\\n', 'noun\\n', 'field\\n', 'rest\\n', 'correct\\n', 'able\\n', 'pound\\n', 'done\\n', 'beauty\\n', 'drive\\n', 'stood\\n', 'contain\\n', 'front\\n', 'teach\\n', 'week\\n', 'final\\n', 'gave\\n', 'green\\n', 'oh\\n', 'quick\\n', 'develop\\n', 'ocean\\n', 'warm\\n', 'free\\n', 'minute\\n', 'strong\\n', 'special\\n', 'mind\\n', 'behind\\n', 'clear\\n', 'tail\\n', 'produce\\n', 'fact\\n', 'street\\n', 'inch\\n', 'multiply\\n', 'nothing\\n', 'course\\n', 'stay\\n', 'wheel\\n', 'full\\n', 'force\\n', 'blue\\n', 'object\\n', 'decide\\n', 'surface\\n', 'deep\\n', 'moon\\n', 'island\\n', 'foot\\n', 'system\\n', 'busy\\n', 'test\\n', 'record\\n', 'boat\\n', 'common\\n', 'gold\\n', 'possible\\n', 'plane\\n', 'stead\\n', 'dry\\n', 'wonder\\n', 'laugh\\n', 'thousand\\n', 'ago\\n', 'ran\\n', 'check\\n', 'game\\n', 'shape\\n', 'equate\\n', 'hot\\n', 'miss\\n', 'brought\\n', 'heat\\n', 'snow\\n', 'tire\\n', 'bring\\n', 'yes\\n', 'distant\\n', 'fill\\n', 'east\\n', 'paint\\n', 'language\\n', 'among\\n', 'grand\\n', 'ball\\n', 'yet\\n', 'wave\\n', 'drop\\n', 'heart\\n', 'am\\n', 'present\\n', 'heavy\\n', 'dance\\n', 'engine\\n', 'position\\n', 'arm\\n', 'wide\\n', 'sail\\n', 'material\\n', 'size\\n', 'vary\\n', 'settle\\n', 'speak\\n', 'weight\\n', 'general\\n', 'ice\\n', 'matter\\n', 'circle\\n', 'pair\\n', 'include\\n', 'divide\\n', 'syllable\\n', 'felt\\n', 'perhaps\\n', 'pick\\n', 'sudden\\n', 'count\\n', 'square\\n', 'reason\\n', 'length\\n', 'represent\\n', 'art\\n', 'subject\\n', 'region\\n', 'energy\\n', 'hunt\\n', 'probable\\n', 'bed\\n', 'brother\\n', 'egg\\n', 'ride\\n', 'cell\\n', 'believe\\n', 'fraction\\n', 'forest\\n', 'sit\\n', 'race\\n', 'window\\n', 'store\\n', 'summer\\n', 'train\\n', 'sleep\\n', 'prove\\n', 'lone\\n', 'leg\\n', 'exercise\\n', 'wall\\n', 'catch\\n', 'mount\\n', 'wish\\n', 'sky\\n', 'board\\n', 'joy\\n', 'winter\\n', 'sat\\n', 'written\\n', 'wild\\n', 'instrument\\n', 'kept\\n', 'glass\\n', 'grass\\n', 'cow\\n', 'job\\n', 'edge\\n', 'sign\\n', 'visit\\n', 'past\\n', 'soft\\n', 'fun\\n', 'bright\\n', 'gas\\n', 'weather\\n', 'month\\n', 'million\\n', 'bear\\n', 'finish\\n', 'happy\\n', 'hope\\n', 'flower\\n', 'clothe\\n', 'strange\\n', 'gone\\n', 'jump\\n', 'baby\\n', 'eight\\n', 'village\\n', 'meet\\n', 'root\\n', 'buy\\n', 'raise\\n', 'solve\\n', 'metal\\n', 'whether\\n', 'push\\n', 'seven\\n', 'paragraph\\n', 'third\\n', 'shall\\n', 'held\\n', 'hair\\n', 'describe\\n', 'cook\\n', 'floor\\n', 'either\\n', 'result\\n', 'burn\\n', 'hill\\n', 'safe\\n', 'cat\\n', 'century\\n', 'consider\\n', 'type\\n', 'law\\n', 'bit\\n', 'coast\\n', 'copy\\n', 'phrase\\n', 'silent\\n', 'tall\\n', 'sand\\n', 'soil\\n', 'roll\\n', 'temperature\\n', 'finger\\n', 'industry\\n', 'value\\n', 'fight\\n', 'lie\\n', 'beat\\n', 'excite\\n', 'natural\\n', 'view\\n', 'sense\\n', 'ear\\n', 'else\\n', 'quite\\n', 'broke\\n', 'case\\n', 'middle\\n', 'kill\\n', 'son\\n', 'lake\\n', 'moment\\n', 'scale\\n', 'loud\\n', 'spring\\n', 'observe\\n', 'child\\n', 'straight\\n', 'consonant\\n', 'nation\\n', 'dictionary\\n', 'milk\\n', 'speed\\n', 'method\\n', 'organ\\n', 'pay\\n', 'age\\n', 'section\\n', 'dress\\n', 'cloud\\n', 'surprise\\n', 'quiet\\n', 'stone\\n', 'tiny\\n', 'climb\\n', 'cool\\n', 'design\\n', 'poor\\n', 'lot\\n', 'experiment\\n', 'bottom\\n', 'key\\n', 'iron\\n', 'single\\n', 'stick\\n', 'flat\\n', 'twenty\\n', 'skin\\n', 'smile\\n', 'crease\\n', 'hole\\n', 'trade\\n', 'melody\\n', 'trip\\n', 'office\\n', 'receive\\n', 'row\\n', 'mouth\\n', 'exact\\n', 'symbol\\n', 'die\\n', 'least\\n', 'trouble\\n', 'shout\\n', 'except\\n', 'wrote\\n', 'seed\\n', 'tone\\n', 'join\\n', 'suggest\\n', 'clean\\n', 'break\\n', 'lady\\n', 'yard\\n', 'rise\\n', 'bad\\n', 'blow\\n', 'oil\\n', 'blood\\n', 'touch\\n', 'grew\\n', 'cent\\n', 'mix\\n', 'team\\n', 'wire\\n', 'cost\\n', 'lost\\n', 'brown\\n', 'wear\\n', 'garden\\n', 'equal\\n', 'sent\\n', 'choose\\n', 'fell\\n', 'fit\\n', 'flow\\n', 'fair\\n', 'bank\\n', 'collect\\n', 'save\\n', 'control\\n', 'decimal\\n', 'gentle\\n', 'woman\\n', 'captain\\n', 'practice\\n', 'separate\\n', 'difficult\\n', 'doctor\\n', 'please\\n', 'protect\\n', 'noon\\n', 'whose\\n', 'locate\\n', 'ring\\n', 'character\\n', 'insect\\n', 'caught\\n', 'period\\n', 'indicate\\n', 'radio\\n', 'spoke\\n', 'atom\\n', 'human\\n', 'history\\n', 'effect\\n', 'electric\\n', 'expect\\n', 'crop\\n', 'modern\\n', 'element\\n', 'hit\\n', 'student\\n', 'corner\\n', 'party\\n', 'supply\\n', 'bone\\n', 'rail\\n', 'imagine\\n', 'provide\\n', 'agree\\n', 'thus\\n', 'capital\\n', \"won't\\n\", 'chair\\n', 'danger\\n', 'fruit\\n', 'rich\\n', 'thick\\n', 'soldier\\n', 'process\\n', 'operate\\n', 'guess\\n', 'necessary\\n', 'sharp\\n', 'wing\\n', 'create\\n', 'neighbor\\n', 'wash\\n', 'bat\\n', 'rather\\n', 'crowd\\n', 'corn\\n', 'compare\\n', 'poem\\n', 'string\\n', 'bell\\n', 'depend\\n', 'meat\\n', 'rub\\n', 'tube\\n', 'famous\\n', 'dollar\\n', 'stream\\n', 'fear\\n', 'sight\\n', 'thin\\n', 'triangle\\n', 'planet\\n', 'hurry\\n', 'chief\\n', 'colony\\n', 'clock\\n', 'mine\\n', 'tie\\n', 'enter\\n', 'major\\n', 'fresh\\n', 'search\\n', 'send\\n', 'yellow\\n', 'gun\\n', 'allow\\n', 'print\\n', 'dead\\n', 'spot\\n', 'desert\\n', 'suit\\n', 'current\\n', 'lift\\n', 'rose\\n', 'continue\\n', 'block\\n', 'chart\\n', 'hat\\n', 'sell\\n', 'success\\n', 'company\\n', 'subtract\\n', 'event\\n', 'particular\\n', 'deal\\n', 'swim\\n', 'term\\n', 'opposite\\n', 'wife\\n', 'shoe\\n', 'shoulder\\n', 'spread\\n', 'arrange\\n', 'camp\\n', 'invent\\n', 'cotton\\n', 'born\\n', 'determine\\n', 'quart\\n', 'nine\\n', 'truck\\n', 'noise\\n', 'level\\n', 'chance\\n', 'gather\\n', 'shop\\n', 'stretch\\n', 'throw\\n', 'shine\\n', 'property\\n', 'column\\n', 'molecule\\n', 'select\\n', 'wrong\\n', 'gray\\n', 'repeat\\n', 'require\\n', 'broad\\n', 'prepare\\n', 'salt\\n', 'nose\\n', 'plural\\n', 'anger\\n', 'claim\\n', 'continent\\n', 'oxygen\\n', 'sugar\\n', 'death\\n', 'pretty\\n', 'skill\\n', 'women\\n', 'season\\n', 'solution\\n', 'magnet\\n', 'silver\\n', 'thank\\n', 'branch\\n', 'match\\n', 'suffix\\n', 'especially\\n', 'fig\\n', 'afraid\\n', 'huge\\n', 'sister\\n', 'steel\\n', 'discuss\\n', 'forward\\n', 'similar\\n', 'guide\\n', 'experience\\n', 'score\\n', 'apple\\n', 'bought\\n', 'led\\n', 'pitch\\n', 'coat\\n', 'mass\\n', 'card\\n', 'band\\n', 'rope\\n', 'slip\\n', 'win\\n', 'dream\\n', 'evening\\n', 'condition\\n', 'feed\\n', 'tool\\n', 'total\\n', 'basic\\n', 'smell\\n', 'valley\\n', 'nor\\n', 'double\\n', 'seat\\n', 'arrive\\n', 'master\\n', 'track\\n', 'parent\\n', 'shore\\n', 'division\\n', 'sheet\\n', 'substance\\n', 'favor\\n', 'connect\\n', 'post\\n', 'spend\\n', 'chord\\n', 'fat\\n', 'glad\\n', 'original\\n', 'share\\n', 'station\\n', 'dad\\n', 'bread\\n', 'charge\\n', 'proper\\n', 'bar\\n', 'offer\\n', 'segment\\n', 'slave\\n', 'duck\\n', 'instant\\n', 'market\\n', 'degree\\n', 'populate\\n', 'chick\\n', 'dear\\n', 'enemy\\n', 'reply\\n', 'drink\\n', 'occur\\n', 'support\\n', 'speech\\n', 'nature\\n', 'range\\n', 'steam\\n', 'motion\\n', 'path\\n', 'liquid\\n', 'log\\n', 'meant\\n', 'quotient\\n', 'teeth\\n', 'shell\\n', 'neck']\n"
     ]
    }
   ],
   "source": [
    "print(words)"
   ]
  },
  {
   "cell_type": "code",
   "execution_count": 50,
   "metadata": {},
   "outputs": [
    {
     "name": "stdout",
     "output_type": "stream",
     "text": [
      "['the', 'of', 'to', 'and', 'a', 'in', 'is', 'it', 'you', 'that', 'he', 'was', 'for', 'on', 'are', 'with', 'as', 'I', 'his', 'they', 'be', 'at', 'one', 'have', 'this', 'from', 'or', 'had', 'by', 'not', 'word', 'but', 'what', 'some', 'we', 'can', 'out', 'other', 'were', 'all', 'there', 'when', 'up', 'use', 'your', 'how', 'said', 'an', 'each', 'she', 'which', 'do', 'their', 'time', 'if', 'will', 'way', 'about', 'many', 'then', 'them', 'write', 'would', 'like', 'so', 'these', 'her', 'long', 'make', 'thing', 'see', 'him', 'two', 'has', 'look', 'more', 'day', 'could', 'go', 'come', 'did', 'number', 'sound', 'no', 'most', 'people', 'my', 'over', 'know', 'water', 'than', 'call', 'first', 'who', 'may', 'down', 'side', 'been', 'now', 'find', 'any', 'new', 'work', 'part', 'take', 'get', 'place', 'made', 'live', 'where', 'after', 'back', 'little', 'only', 'round', 'man', 'year', 'came', 'show', 'every', 'good', 'me', 'give', 'our', 'under', 'name', 'very', 'through', 'just', 'form', 'sentence', 'great', 'think', 'say', 'help', 'low', 'line', 'differ', 'turn', 'cause', 'much', 'mean', 'before', 'move', 'right', 'boy', 'old', 'too', 'same', 'tell', 'does', 'set', 'three', 'want', 'air', 'well', 'also', 'play', 'small', 'end', 'put', 'home', 'read', 'hand', 'port', 'large', 'spell', 'add', 'even', 'land', 'here', 'must', 'big', 'high', 'such', 'follow', 'act', 'why', 'ask', 'men', 'change', 'went', 'light', 'kind', 'off', 'need', 'house', 'picture', 'try', 'us', 'again', 'animal', 'point', 'mother', 'world', 'near', 'build', 'self', 'earth', 'father', 'head', 'stand', 'own', 'page', 'should', 'country', 'found', 'answer', 'school', 'grow', 'study', 'still', 'learn', 'plant', 'cover', 'food', 'sun', 'four', 'between', 'state', 'keep', 'eye', 'never', 'last', 'let', 'thought', 'city', 'tree', 'cross', 'farm', 'hard', 'start', 'might', 'story', 'saw', 'far', 'sea', 'draw', 'left', 'late', 'run', \"don't\", 'while', 'press', 'close', 'night', 'real', 'life', 'few', 'north', 'open', 'seem', 'together', 'next', 'white', 'children', 'begin', 'got', 'walk', 'example', 'ease', 'paper', 'group', 'always', 'music', 'those', 'both', 'mark', 'often', 'letter', 'until', 'mile', 'river', 'car', 'feet', 'care', 'second', 'book', 'carry', 'took', 'science', 'eat', 'room', 'friend', 'began', 'idea', 'fish', 'mountain', 'stop', 'once', 'base', 'hear', 'horse', 'cut', 'sure', 'watch', 'color', 'face', 'wood', 'main', 'enough', 'plain', 'girl', 'usual', 'young', 'ready', 'above', 'ever', 'red', 'list', 'though', 'feel', 'talk', 'bird', 'soon', 'body', 'dog', 'family', 'direct', 'pose', 'leave', 'song', 'measure', 'door', 'product', 'black', 'short', 'numeral', 'class', 'wind', 'question', 'happen', 'complete', 'ship', 'area', 'half', 'rock', 'order', 'fire', 'south', 'problem', 'piece', 'told', 'knew', 'pass', 'since', 'top', 'whole', 'king', 'space', 'heard', 'best', 'hour', 'better', 'true', 'during', 'hundred', 'five', 'remember', 'step', 'early', 'hold', 'west', 'ground', 'interest', 'reach', 'fast', 'verb', 'sing', 'listen', 'six', 'table', 'travel', 'less', 'morning', 'ten', 'simple', 'several', 'vowel', 'toward', 'war', 'lay', 'against', 'pattern', 'slow', 'center', 'love', 'person', 'money', 'serve', 'appear', 'road', 'map', 'rain', 'rule', 'govern', 'pull', 'cold', 'notice', 'voice', 'unit', 'power', 'town', 'fine', 'certain', 'fly', 'fall', 'lead', 'cry', 'dark', 'machine', 'note', 'wait', 'plan', 'figure', 'star', 'box', 'noun', 'field', 'rest', 'correct', 'able', 'pound', 'done', 'beauty', 'drive', 'stood', 'contain', 'front', 'teach', 'week', 'final', 'gave', 'green', 'oh', 'quick', 'develop', 'ocean', 'warm', 'free', 'minute', 'strong', 'special', 'mind', 'behind', 'clear', 'tail', 'produce', 'fact', 'street', 'inch', 'multiply', 'nothing', 'course', 'stay', 'wheel', 'full', 'force', 'blue', 'object', 'decide', 'surface', 'deep', 'moon', 'island', 'foot', 'system', 'busy', 'test', 'record', 'boat', 'common', 'gold', 'possible', 'plane', 'stead', 'dry', 'wonder', 'laugh', 'thousand', 'ago', 'ran', 'check', 'game', 'shape', 'equate', 'hot', 'miss', 'brought', 'heat', 'snow', 'tire', 'bring', 'yes', 'distant', 'fill', 'east', 'paint', 'language', 'among', 'grand', 'ball', 'yet', 'wave', 'drop', 'heart', 'am', 'present', 'heavy', 'dance', 'engine', 'position', 'arm', 'wide', 'sail', 'material', 'size', 'vary', 'settle', 'speak', 'weight', 'general', 'ice', 'matter', 'circle', 'pair', 'include', 'divide', 'syllable', 'felt', 'perhaps', 'pick', 'sudden', 'count', 'square', 'reason', 'length', 'represent', 'art', 'subject', 'region', 'energy', 'hunt', 'probable', 'bed', 'brother', 'egg', 'ride', 'cell', 'believe', 'fraction', 'forest', 'sit', 'race', 'window', 'store', 'summer', 'train', 'sleep', 'prove', 'lone', 'leg', 'exercise', 'wall', 'catch', 'mount', 'wish', 'sky', 'board', 'joy', 'winter', 'sat', 'written', 'wild', 'instrument', 'kept', 'glass', 'grass', 'cow', 'job', 'edge', 'sign', 'visit', 'past', 'soft', 'fun', 'bright', 'gas', 'weather', 'month', 'million', 'bear', 'finish', 'happy', 'hope', 'flower', 'clothe', 'strange', 'gone', 'jump', 'baby', 'eight', 'village', 'meet', 'root', 'buy', 'raise', 'solve', 'metal', 'whether', 'push', 'seven', 'paragraph', 'third', 'shall', 'held', 'hair', 'describe', 'cook', 'floor', 'either', 'result', 'burn', 'hill', 'safe', 'cat', 'century', 'consider', 'type', 'law', 'bit', 'coast', 'copy', 'phrase', 'silent', 'tall', 'sand', 'soil', 'roll', 'temperature', 'finger', 'industry', 'value', 'fight', 'lie', 'beat', 'excite', 'natural', 'view', 'sense', 'ear', 'else', 'quite', 'broke', 'case', 'middle', 'kill', 'son', 'lake', 'moment', 'scale', 'loud', 'spring', 'observe', 'child', 'straight', 'consonant', 'nation', 'dictionary', 'milk', 'speed', 'method', 'organ', 'pay', 'age', 'section', 'dress', 'cloud', 'surprise', 'quiet', 'stone', 'tiny', 'climb', 'cool', 'design', 'poor', 'lot', 'experiment', 'bottom', 'key', 'iron', 'single', 'stick', 'flat', 'twenty', 'skin', 'smile', 'crease', 'hole', 'trade', 'melody', 'trip', 'office', 'receive', 'row', 'mouth', 'exact', 'symbol', 'die', 'least', 'trouble', 'shout', 'except', 'wrote', 'seed', 'tone', 'join', 'suggest', 'clean', 'break', 'lady', 'yard', 'rise', 'bad', 'blow', 'oil', 'blood', 'touch', 'grew', 'cent', 'mix', 'team', 'wire', 'cost', 'lost', 'brown', 'wear', 'garden', 'equal', 'sent', 'choose', 'fell', 'fit', 'flow', 'fair', 'bank', 'collect', 'save', 'control', 'decimal', 'gentle', 'woman', 'captain', 'practice', 'separate', 'difficult', 'doctor', 'please', 'protect', 'noon', 'whose', 'locate', 'ring', 'character', 'insect', 'caught', 'period', 'indicate', 'radio', 'spoke', 'atom', 'human', 'history', 'effect', 'electric', 'expect', 'crop', 'modern', 'element', 'hit', 'student', 'corner', 'party', 'supply', 'bone', 'rail', 'imagine', 'provide', 'agree', 'thus', 'capital', \"won't\", 'chair', 'danger', 'fruit', 'rich', 'thick', 'soldier', 'process', 'operate', 'guess', 'necessary', 'sharp', 'wing', 'create', 'neighbor', 'wash', 'bat', 'rather', 'crowd', 'corn', 'compare', 'poem', 'string', 'bell', 'depend', 'meat', 'rub', 'tube', 'famous', 'dollar', 'stream', 'fear', 'sight', 'thin', 'triangle', 'planet', 'hurry', 'chief', 'colony', 'clock', 'mine', 'tie', 'enter', 'major', 'fresh', 'search', 'send', 'yellow', 'gun', 'allow', 'print', 'dead', 'spot', 'desert', 'suit', 'current', 'lift', 'rose', 'continue', 'block', 'chart', 'hat', 'sell', 'success', 'company', 'subtract', 'event', 'particular', 'deal', 'swim', 'term', 'opposite', 'wife', 'shoe', 'shoulder', 'spread', 'arrange', 'camp', 'invent', 'cotton', 'born', 'determine', 'quart', 'nine', 'truck', 'noise', 'level', 'chance', 'gather', 'shop', 'stretch', 'throw', 'shine', 'property', 'column', 'molecule', 'select', 'wrong', 'gray', 'repeat', 'require', 'broad', 'prepare', 'salt', 'nose', 'plural', 'anger', 'claim', 'continent', 'oxygen', 'sugar', 'death', 'pretty', 'skill', 'women', 'season', 'solution', 'magnet', 'silver', 'thank', 'branch', 'match', 'suffix', 'especially', 'fig', 'afraid', 'huge', 'sister', 'steel', 'discuss', 'forward', 'similar', 'guide', 'experience', 'score', 'apple', 'bought', 'led', 'pitch', 'coat', 'mass', 'card', 'band', 'rope', 'slip', 'win', 'dream', 'evening', 'condition', 'feed', 'tool', 'total', 'basic', 'smell', 'valley', 'nor', 'double', 'seat', 'arrive', 'master', 'track', 'parent', 'shore', 'division', 'sheet', 'substance', 'favor', 'connect', 'post', 'spend', 'chord', 'fat', 'glad', 'original', 'share', 'station', 'dad', 'bread', 'charge', 'proper', 'bar', 'offer', 'segment', 'slave', 'duck', 'instant', 'market', 'degree', 'populate', 'chick', 'dear', 'enemy', 'reply', 'drink', 'occur', 'support', 'speech', 'nature', 'range', 'steam', 'motion', 'path', 'liquid', 'log', 'meant', 'quotient', 'teeth', 'shell', 'neck']\n"
     ]
    }
   ],
   "source": [
    "# Remove newline '\\n' from the words\n",
    "\n",
    "correctedWords = []\n",
    "\n",
    "for word in words:\n",
    "    correctedWords.append(word.strip())\n",
    "\n",
    "print(correctedWords)"
   ]
  },
  {
   "cell_type": "code",
   "execution_count": 56,
   "metadata": {},
   "outputs": [],
   "source": [
    "# Store word vectors for the 1000 words in numpy array\n",
    "\n",
    "for i in range(0, 1000):\n",
    "    arr[i] = model.get_word_vector(correctedWords[i])"
   ]
  },
  {
   "cell_type": "markdown",
   "metadata": {},
   "source": [
    "# Numpy array now contains 300 dimensional vectors for top 1000 words"
   ]
  },
  {
   "cell_type": "code",
   "execution_count": 57,
   "metadata": {},
   "outputs": [
    {
     "name": "stdout",
     "output_type": "stream",
     "text": [
      "[[-5.17441928e-02  7.39639550e-02 -1.30568799e-02 ...  2.37025172e-01\n",
      "   4.47519124e-04 -4.19306662e-03]\n",
      " [-7.30382380e-05 -1.87740743e-01 -7.10511580e-02 ...  2.84640547e-02\n",
      "  -1.38433352e-01  1.80539750e-02]\n",
      " [ 4.68113739e-03  2.81242505e-02 -2.96314526e-02 ...  3.25574547e-01\n",
      "  -5.08963875e-02  7.15068355e-03]\n",
      " ...\n",
      " [-8.80315602e-02 -5.49822487e-02  1.12810686e-01 ...  5.53804748e-02\n",
      "  -1.32485196e-01 -1.13860920e-01]\n",
      " [-2.19269879e-02 -8.32253601e-03  6.68021813e-02 ...  6.49511516e-02\n",
      "  -6.99074194e-02  5.11199329e-03]\n",
      " [ 5.16108386e-02 -1.39251962e-01 -1.99126955e-02 ...  2.07545519e-01\n",
      "   5.56915104e-02 -1.66965947e-02]]\n"
     ]
    }
   ],
   "source": [
    "print(arr)"
   ]
  },
  {
   "cell_type": "markdown",
   "metadata": {},
   "source": [
    "# Now conduct cosine similarity search for nearest neighbor"
   ]
  },
  {
   "cell_type": "code",
   "execution_count": 104,
   "metadata": {},
   "outputs": [
    {
     "name": "stdout",
     "output_type": "stream",
     "text": [
      "design 0.5727527782988704\n"
     ]
    }
   ],
   "source": [
    "# user word\n",
    "user_word = \"architecture\"\n",
    "\n",
    "user_word_vec = model.get_word_vector(user_word)\n",
    "\n",
    "# iterate through numpy array and find vector with greatest cosine similarity\n",
    "index = -1\n",
    "cos_sim = -1\n",
    "for i in range(0, 1000):\n",
    "    current = dot(user_word_vec, arr[i]) / (norm(user_word_vec) * norm(arr[i]))\n",
    "    if current > cos_sim and correctedWords[i] != user_word:\n",
    "        cos_sim = current\n",
    "        index = i\n",
    "\n",
    "print(correctedWords[index] + \" \" + str(cos_sim))"
   ]
  },
  {
   "cell_type": "markdown",
   "metadata": {},
   "source": [
    "## Takeaway:\n",
    "\n",
    "### This method works great for finding related words from a known set of words. Flaws: often, top results are words that appear very close but that are not necessarily substitutes. Example: play --> game\n",
    "\n",
    "\n",
    "## Thoughts: \n",
    "\n",
    "### Instead of using the top 1000 words, we could build a set of rare words or of words used by particular authors. Then, we could suggest a word from the set if the cosine similarity is greater than, for example, 0.7. This might help with diversification of vocabulary."
   ]
  },
  {
   "cell_type": "markdown",
   "metadata": {},
   "source": [
    "# Try searching for nearest neighbor of a sentence average word vector"
   ]
  },
  {
   "cell_type": "code",
   "execution_count": 121,
   "metadata": {},
   "outputs": [
    {
     "name": "stdout",
     "output_type": "stream",
     "text": [
      "['The', 'door', 'mat']\n"
     ]
    }
   ],
   "source": [
    "# user sentence\n",
    "user_sent = \"The door mat\"\n",
    "\n",
    "user_sent_words = user_sent.split()\n",
    "\n",
    "print(user_sent_words)"
   ]
  },
  {
   "cell_type": "code",
   "execution_count": 122,
   "metadata": {},
   "outputs": [],
   "source": [
    "vec1 = model.get_word_vector(user_sent_words[0])\n",
    "\n",
    "vec2 = model.get_word_vector(user_sent_words[1])\n",
    "\n",
    "vec3 = model.get_word_vector(user_sent_words[2])"
   ]
  },
  {
   "cell_type": "code",
   "execution_count": 123,
   "metadata": {},
   "outputs": [],
   "source": [
    "vec4 = []\n",
    "for i in range(0, 300):\n",
    "    vec4.append((vec1[i] + vec2[i] + vec3[i]) / 3.0)"
   ]
  },
  {
   "cell_type": "code",
   "execution_count": 124,
   "metadata": {},
   "outputs": [
    {
     "name": "stdout",
     "output_type": "stream",
     "text": [
      "[-0.018713074425856274, 0.06360449890295665, 0.0024108588695526123, 0.06884397069613139, -0.020124215632677078, -0.009119058648745218, 0.10052966078122456, 0.1822063128153483, 0.03403090685606003, 0.09781306982040405, -0.1355553368727366, -0.10854966441790263, 0.02067030469576518, -0.0815120240052541, 0.017036589483420055, 0.0835189421971639, -0.03069765865802765, -0.05021528899669647, 0.13049325346946716, -0.054400344689687095, -0.06446240842342377, 0.003913941482702891, -0.018919071803490322, 0.12124085426330566, 0.060990214347839355, -0.046024590730667114, 0.06661264598369598, -0.008052962521711985, -0.025761122504870098, 0.10611533125241597, -0.03231808046499888, 0.06738384068012238, -0.0917830765247345, -0.11673574646313985, 0.06880720953146617, 0.08545287450154622, -0.0995011826356252, 0.04878418644269308, -0.0941895842552185, -0.04328096409638723, -0.015231496344010035, 0.015798370043436687, -0.09233980377515157, 0.1338951289653778, -0.06453837454319, 0.04077438016732534, -0.07217406233151753, 0.035933904349803925, -0.09616319338480632, 0.03121061126391093, 0.0225560466448466, -0.07966365416844685, 0.1475943128267924, 0.016640485574801762, -0.06625081102053325, 0.03564635912577311, -0.015708280106385548, -0.02388416975736618, -0.048337201277414955, -0.00543747345606486, -0.06209379434585571, -0.03976541757583618, 0.035327245791753135, 0.08005400498708089, 0.01856255407134692, -0.030668886999289196, -0.11819277207056682, 0.037539335588614144, -0.006850632528464, 0.10789895057678223, 0.17910081148147583, 0.012960828840732574, 0.08535841107368469, 0.026151254773139954, -0.07487742602825165, 0.06460659702618916, -0.07787343859672546, 0.07005869348843892, -0.012291436394055685, -0.04774797956148783, 0.0884287456671397, -0.01671203225851059, -0.004502270370721817, -0.05381682515144348, 0.021251653631528217, 0.05868871013323466, -0.06717373927434285, 0.01865260551373164, -0.0034676939249038696, 0.03857199599345525, 0.035558837155501045, 0.008056732515494028, 0.009950829048951467, 0.03781011700630188, 0.056553781032562256, 0.04206480085849762, 0.010725978761911392, -0.13013211886088052, -0.027519171436627705, 0.004774445667862892, 0.0818693737188975, 0.039875502387682595, 0.11927260955174764, 0.006444431841373444, -0.06669832766056061, 0.08048239350318909, 0.014502860605716705, 0.09412550926208496, 0.06853627661863963, 0.06756375233332317, -0.02635707954565684, -0.04007462660471598, 0.005332763617237409, 5.307296911875407e-06, 0.16780797640482584, 0.018121397743622463, -0.024620647231737774, 0.03097173074881236, -0.14635934432347616, -0.006295182431737582, 0.031696759164333344, 0.05221522351106008, 0.00598450501759847, 0.09019072850545247, -0.033821153144041695, 0.07187606394290924, -0.0046816008786360426, 0.051783730586369835, 0.010100920995076498, 0.13121267159779867, -0.0200098417699337, -0.036505515376726784, -0.05727115273475647, 0.062393710017204285, -0.06809612115224202, -0.07059361537297566, 0.028073991338411968, 0.00584248701731364, 0.09008811910947163, 0.05223476390043894, 0.025177295009295147, -0.09171148141225179, 0.019290099541346233, -0.018302080531915028, -0.08911556005477905, -0.044913724064826965, -0.3052757978439331, 0.03838453690210978, 0.009450280417998632, -0.11921228965123494, 0.01386310284336408, -0.09814693530400594, 0.05963325500488281, 0.03998266408840815, -0.011422117551167807, -0.06802408397197723, 0.1378739873568217, -0.023945276935895283, -0.04364733894666036, 0.0846056838830312, 0.029251354436079662, -0.0008593698342641195, 0.11502403020858765, -0.035581553975741066, 0.03425628940264384, 0.0949101448059082, -0.0988656481107076, -0.056834399700164795, 0.0397641584277153, 0.030959606170654297, 0.041626455883185066, 0.0061922383805116015, -0.05941762526830038, 0.0734271655480067, -0.03526549537976583, 0.058880681792895, 0.03784639139970144, -0.008560573061307272, -0.007730106512705485, -0.08550315101941426, -0.1662386159102122, 0.03834969302018484, 0.03913631041844686, -0.027153531710306805, 0.0713180551926295, 0.0227289746205012, -0.03905672828356425, 0.07201881210009257, 0.07291139165560405, -0.09072969357172649, -0.06307327747344971, -0.02717371533314387, 0.029209936658541363, -0.02306206524372101, -0.01865532745917638, 0.020678959786891937, 0.03494051843881607, -0.058986892302831016, 0.0022426024079322815, -0.0033108082910378775, 0.022590075929959614, -0.020026759554942448, 0.0007251054048538208, -0.017705325037240982, 0.016460052380959194, 0.023623821636041004, 0.06244087219238281, 0.04129012177387873, 0.11894120772679646, 0.010304924721519152, -0.050284624099731445, -0.017549763123194378, -0.07440487543741862, -0.05692167580127716, 0.057164629300435386, -0.060111174980799355, 0.06492639581362407, -0.08215555548667908, 0.0420202761888504, -0.0897140105565389, 0.017779211203257244, 0.08532793323198955, -0.057558298110961914, 0.06564882894357045, 0.12183873852094014, -0.01511464516321818, 0.07272496819496155, -0.09434275825818379, -0.034962624311447144, 0.01476508378982544, -0.023312243322531383, -0.0664095679918925, -0.013609980543454489, 0.05620752274990082, 0.13173329830169678, -0.04657264053821564, -0.060553928216298424, 0.05165461699167887, -0.08632834752400716, -0.017392853895823162, -0.08365438381830852, 0.040542090932528176, -0.07483423252900441, -0.06720860302448273, 0.37553513050079346, 0.06910696129004161, 0.08623007933298747, 0.05010265608628591, -0.08018014331658681, 0.038937173783779144, -0.14834787448247275, 0.042822872598965965, -0.011139231423536936, -0.1460243264834086, -0.0026984140276908875, 0.056074331204096474, -0.0721683402856191, 0.08942923943201701, -0.02974659949541092, 0.055966705083847046, -0.0039826929569244385, -0.11006003618240356, -0.04481332997481028, -0.00013490766286849976, -0.05899077653884888, -0.049563576777776085, 0.05674279729525248, 0.03235124051570892, 0.019153467069069546, 0.022027169664700825, 0.03289492925008138, 0.041496746242046356, 0.03581594427426656, -0.09374844034512837, 0.015537050863107046, -0.04836306472619375, -0.09107282757759094, -0.04806355138619741, -0.008660646776358286, -0.04109399269024531, -0.05625150601069132, -0.03266904999812444, -0.12256797154744466, -0.12762477000554404, -0.025743775069713593, -0.0412601629892985, -0.04179787635803223, -0.07272546490033467, -0.02821013331413269, -0.09643406669298808, 0.06735840439796448, -0.026572848359743755, -0.06698495149612427, 0.06831702589988708, -0.006380576640367508, -0.11331574122111003, -0.049862717588742576, 0.10964958866437276, 0.12666012843449911, 0.03976753354072571]\n"
     ]
    }
   ],
   "source": [
    "print(vec4)"
   ]
  },
  {
   "cell_type": "code",
   "execution_count": 125,
   "metadata": {},
   "outputs": [
    {
     "name": "stdout",
     "output_type": "stream",
     "text": [
      "floor 0.5174886243282755\n"
     ]
    }
   ],
   "source": [
    "user_word_vec = vec4\n",
    "\n",
    "# iterate through numpy array and find vector with greatest cosine similarity\n",
    "index = -1\n",
    "cos_sim = -1\n",
    "for i in range(0, 1000):\n",
    "    current = dot(user_word_vec, arr[i]) / (norm(user_word_vec) * norm(arr[i]))\n",
    "    if current > cos_sim and correctedWords[i] not in user_sent_words:\n",
    "        cos_sim = current\n",
    "        index = i\n",
    "\n",
    "print(correctedWords[index] + \" \" + str(cos_sim))"
   ]
  },
  {
   "cell_type": "code",
   "execution_count": null,
   "metadata": {},
   "outputs": [],
   "source": []
  },
  {
   "cell_type": "code",
   "execution_count": null,
   "metadata": {},
   "outputs": [],
   "source": []
  }
 ],
 "metadata": {
  "kernelspec": {
   "display_name": "Python 3",
   "language": "python",
   "name": "python3"
  },
  "language_info": {
   "codemirror_mode": {
    "name": "ipython",
    "version": 3
   },
   "file_extension": ".py",
   "mimetype": "text/x-python",
   "name": "python",
   "nbconvert_exporter": "python",
   "pygments_lexer": "ipython3",
   "version": "3.8.5"
  }
 },
 "nbformat": 4,
 "nbformat_minor": 4
}
