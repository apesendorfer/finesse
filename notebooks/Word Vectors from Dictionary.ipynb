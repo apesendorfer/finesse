{
 "cells": [
  {
   "cell_type": "code",
   "execution_count": 4,
   "metadata": {},
   "outputs": [],
   "source": [
    "import fasttext\n",
    "\n",
    "import numpy as np\n",
    "\n",
    "import string\n",
    "\n",
    "# cosine similarity of word vectors\n",
    "\n",
    "from numpy import dot\n",
    "from numpy.linalg import norm\n",
    "\n",
    "# cos_sim = dot(a, b)/(norm(a)*norm(b))\n",
    "\n",
    "from PyDictionary import PyDictionary\n",
    "dictionary=PyDictionary()\n",
    "\n",
    "from nltk.corpus import words"
   ]
  },
  {
   "cell_type": "markdown",
   "metadata": {},
   "source": [
    "# Plan:\n",
    "\n",
    "## 1) Create word vectors based on dictionary definition averages\n",
    "\n",
    "## 2) Increase the weight of words that are in the TF-IDF sets\n",
    "\n",
    "## 3) Normalize all vectors"
   ]
  },
  {
   "cell_type": "code",
   "execution_count": null,
   "metadata": {},
   "outputs": [],
   "source": [
    "#load fasttext model. vectors have 300 dimensions\n",
    "\n",
    "model = fasttext.load_model(\"/Users/alex/result/cc.en.300.bin\")"
   ]
  },
  {
   "cell_type": "code",
   "execution_count": null,
   "metadata": {},
   "outputs": [],
   "source": [
    "f = open(\"tfidf_wiki.txt\", \"r\")\n",
    "\n",
    "tfidf_words = f.read().split()\n",
    "\n",
    "f.close()\n",
    "\n",
    "print(tfidf_words[0:100])"
   ]
  },
  {
   "cell_type": "code",
   "execution_count": null,
   "metadata": {},
   "outputs": [],
   "source": [
    "model.words"
   ]
  },
  {
   "cell_type": "code",
   "execution_count": 2,
   "metadata": {},
   "outputs": [
    {
     "data": {
      "text/plain": [
       "236736"
      ]
     },
     "execution_count": 2,
     "metadata": {},
     "output_type": "execute_result"
    }
   ],
   "source": [
    "len(words.words())"
   ]
  },
  {
   "cell_type": "code",
   "execution_count": 12,
   "metadata": {},
   "outputs": [
    {
     "name": "stdout",
     "output_type": "stream",
     "text": [
      "abacinate\n",
      "[\"blind by holding a red-hot metal plate before someone's eyes\"]\n",
      "abandon\n",
      "['forsake, leave behind', 'give up with the intent of never claiming again', 'leave behind empty; move out of', 'stop maintaining or insisting on; of ideas or claims', 'leave someone who needs or counts on you; leave in the lurch']\n",
      "abandoned\n",
      "['forsake, leave behind', 'give up with the intent of never claiming again', 'leave behind empty; move out of', 'stop maintaining or insisting on; of ideas or claims', 'leave someone who needs or counts on you; leave in the lurch']\n"
     ]
    }
   ],
   "source": [
    "for word in words.words()[0:50]:\n",
    "    meaning = dictionary.meaning(word, disable_errors=True)\n",
    "    \n",
    "    if meaning == None:\n",
    "        continue\n",
    "    else:\n",
    "        if \"Verb\" in meaning:\n",
    "            defn = meaning[\"Verb\"]\n",
    "            print(word)\n",
    "            print(defn)"
   ]
  },
  {
   "cell_type": "code",
   "execution_count": null,
   "metadata": {},
   "outputs": [],
   "source": []
  },
  {
   "cell_type": "code",
   "execution_count": null,
   "metadata": {},
   "outputs": [],
   "source": [
    "print(dictionary.meaning(\"test\"))"
   ]
  },
  {
   "cell_type": "code",
   "execution_count": null,
   "metadata": {},
   "outputs": [],
   "source": [
    "meaningsList = list(dictionary.meaning(\"test\").values())\n",
    "print(len(meaningsList))\n",
    "print(meaningsList[1])"
   ]
  },
  {
   "cell_type": "code",
   "execution_count": null,
   "metadata": {},
   "outputs": [],
   "source": [
    "print(test)\n",
    "test[0][0]"
   ]
  },
  {
   "cell_type": "code",
   "execution_count": null,
   "metadata": {},
   "outputs": [],
   "source": [
    "# Code for removing punctuation and replacing it with whitespace\n",
    "    translator = str.maketrans(string.punctuation, ' '*len(string.punctuation)) #map punctuation to space\n",
    "    words = (doc.translate(translator)).split()"
   ]
  }
 ],
 "metadata": {
  "kernelspec": {
   "display_name": "Python 3",
   "language": "python",
   "name": "python3"
  },
  "language_info": {
   "codemirror_mode": {
    "name": "ipython",
    "version": 3
   },
   "file_extension": ".py",
   "mimetype": "text/x-python",
   "name": "python",
   "nbconvert_exporter": "python",
   "pygments_lexer": "ipython3",
   "version": "3.8.5"
  }
 },
 "nbformat": 4,
 "nbformat_minor": 4
}
