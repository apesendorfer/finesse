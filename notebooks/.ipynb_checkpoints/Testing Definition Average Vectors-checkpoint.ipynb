{
 "cells": [
  {
   "cell_type": "code",
   "execution_count": 6,
   "metadata": {},
   "outputs": [],
   "source": [
    "import fasttext\n",
    "\n",
    "import numpy as np\n",
    "\n",
    "import string\n",
    "\n",
    "# cosine similarity of word vectors\n",
    "\n",
    "from numpy import dot\n",
    "from numpy.linalg import norm\n",
    "\n",
    "# cos_sim = dot(a, b)/(norm(a)*norm(b))\n",
    "\n",
    "from nltk.corpus import words\n",
    "from nltk.corpus import brown"
   ]
  },
  {
   "cell_type": "markdown",
   "metadata": {},
   "source": [
    "# Plan:\n",
    "\n",
    "## 1) Create word vectors based on dictionary definition averages\n",
    "\n",
    "## 2) Increase the weight of words that are in the TF-IDF sets\n",
    "\n",
    "## 3) Normalize all vectors"
   ]
  },
  {
   "cell_type": "code",
   "execution_count": 2,
   "metadata": {},
   "outputs": [],
   "source": [
    "#load fasttext model. vectors have 300 dimensions\n",
    "\n",
    "model = fasttext.load_model(\"/Users/alex/result/cc.en.300.bin\")"
   ]
  },
  {
   "cell_type": "code",
   "execution_count": 31,
   "metadata": {},
   "outputs": [],
   "source": [
    "dictionary = {\n",
    "    \"discover\":\"find something or someone unexpectedly or in the course of a search\",\n",
    "    \"find\":\"discover or perceive by chance\", # leads to 0.774\n",
    "    #\"find\":\"discover or perceive by chance or unexpectedly\", # leads to 0.824\n",
    "    \"jump\":\"push oneself off a surface and into the air by using the muscles in one's legs and feet\",\n",
    "    \"leap\":\"jump or spring a long way to a great height or with great force\"\n",
    "    \n",
    "}"
   ]
  },
  {
   "cell_type": "code",
   "execution_count": 32,
   "metadata": {},
   "outputs": [
    {
     "name": "stdout",
     "output_type": "stream",
     "text": [
      "discover\n",
      "find\n",
      "jump\n",
      "leap\n"
     ]
    }
   ],
   "source": [
    "for word in dictionary:\n",
    "    print(word)"
   ]
  },
  {
   "cell_type": "code",
   "execution_count": 33,
   "metadata": {},
   "outputs": [
    {
     "name": "stdout",
     "output_type": "stream",
     "text": [
      "Time:  0.005248237000159861\n"
     ]
    }
   ],
   "source": [
    "import timeit\n",
    "\n",
    "start = timeit.default_timer()\n",
    "\n",
    "#create numpy array to store word vectors\n",
    "\n",
    "arr = np.ndarray(shape=(4, 300))\n",
    "words_arr = [\"\"]*4\n",
    "\n",
    "\n",
    "count = 0\n",
    "for word in dictionary:\n",
    "    meaning = dictionary[word]\n",
    "    defn_words = meaning.split()\n",
    "    vector_sum = [0]*300\n",
    "    for wrd in defn_words:\n",
    "        vector_sum += model.get_word_vector(wrd)\n",
    "    avg_vec = vector_sum / float(len(defn_words))\n",
    "    avg_vec = avg_vec / norm(avg_vec)\n",
    "    words_arr[count] = word\n",
    "    arr[count] = avg_vec\n",
    "    count += 1\n",
    "    \n",
    "\n",
    "            \n",
    "stop = timeit.default_timer()\n",
    "\n",
    "print('Time: ', stop - start)"
   ]
  },
  {
   "cell_type": "code",
   "execution_count": 34,
   "metadata": {},
   "outputs": [
    {
     "name": "stdout",
     "output_type": "stream",
     "text": [
      "['discover', 'find', 'jump', 'leap']\n",
      "4\n"
     ]
    }
   ],
   "source": [
    "print(words_arr)\n",
    "print(len(words_arr))"
   ]
  },
  {
   "cell_type": "code",
   "execution_count": 35,
   "metadata": {},
   "outputs": [
    {
     "name": "stdout",
     "output_type": "stream",
     "text": [
      "[[ 0.01359215 -0.08822289  0.02163421 ...  0.07194383 -0.05001707\n",
      "  -0.00643365]\n",
      " [ 0.00625182  0.01940882  0.03509621 ... -0.00291932 -0.05865181\n",
      "  -0.02019357]\n",
      " [-0.01927149 -0.04167916  0.04583123 ...  0.12949021  0.01600858\n",
      "  -0.02652177]\n",
      " [ 0.03128535 -0.11788292 -0.00358653 ...  0.11990251 -0.04336372\n",
      "  -0.02981115]]\n",
      "4\n"
     ]
    }
   ],
   "source": [
    "print(arr)\n",
    "print(len(arr))"
   ]
  },
  {
   "cell_type": "code",
   "execution_count": 28,
   "metadata": {},
   "outputs": [],
   "source": [
    "cos_sim = dot(arr[0], arr[1])"
   ]
  },
  {
   "cell_type": "code",
   "execution_count": 29,
   "metadata": {},
   "outputs": [
    {
     "name": "stdout",
     "output_type": "stream",
     "text": [
      "0.7740827417106177\n"
     ]
    }
   ],
   "source": [
    "print(cos_sim)"
   ]
  },
  {
   "cell_type": "code",
   "execution_count": 18,
   "metadata": {},
   "outputs": [],
   "source": [
    "find = model.get_word_vector(\"find\")\n",
    "discover = model.get_word_vector(\"discover\")"
   ]
  },
  {
   "cell_type": "code",
   "execution_count": 20,
   "metadata": {},
   "outputs": [],
   "source": [
    "find = find / norm(find)\n",
    "discover = discover / norm(discover)"
   ]
  },
  {
   "cell_type": "code",
   "execution_count": 21,
   "metadata": {},
   "outputs": [],
   "source": [
    "test_sim = dot(find, discover)"
   ]
  },
  {
   "cell_type": "code",
   "execution_count": 22,
   "metadata": {},
   "outputs": [
    {
     "name": "stdout",
     "output_type": "stream",
     "text": [
      "0.7064031\n"
     ]
    }
   ],
   "source": [
    "print(test_sim)"
   ]
  },
  {
   "cell_type": "code",
   "execution_count": 36,
   "metadata": {},
   "outputs": [],
   "source": [
    "cos_sim_jump_leap = dot(arr[2], arr[3])"
   ]
  },
  {
   "cell_type": "code",
   "execution_count": 38,
   "metadata": {},
   "outputs": [
    {
     "name": "stdout",
     "output_type": "stream",
     "text": [
      "0.7851296110361303\n"
     ]
    }
   ],
   "source": [
    "print(cos_sim_jump_leap)"
   ]
  },
  {
   "cell_type": "code",
   "execution_count": 39,
   "metadata": {},
   "outputs": [],
   "source": [
    "jump = model.get_word_vector(\"jump\")\n",
    "leap = model.get_word_vector(\"leap\")"
   ]
  },
  {
   "cell_type": "code",
   "execution_count": 40,
   "metadata": {},
   "outputs": [],
   "source": [
    "jump = jump / norm(jump)\n",
    "leap = leap / norm(leap)"
   ]
  },
  {
   "cell_type": "code",
   "execution_count": 41,
   "metadata": {},
   "outputs": [],
   "source": [
    "test_sim = dot(jump, leap)"
   ]
  },
  {
   "cell_type": "code",
   "execution_count": 42,
   "metadata": {},
   "outputs": [
    {
     "name": "stdout",
     "output_type": "stream",
     "text": [
      "0.68421316\n"
     ]
    }
   ],
   "source": [
    "print(test_sim)"
   ]
  },
  {
   "cell_type": "code",
   "execution_count": null,
   "metadata": {},
   "outputs": [],
   "source": []
  }
 ],
 "metadata": {
  "kernelspec": {
   "display_name": "Python 3",
   "language": "python",
   "name": "python3"
  },
  "language_info": {
   "codemirror_mode": {
    "name": "ipython",
    "version": 3
   },
   "file_extension": ".py",
   "mimetype": "text/x-python",
   "name": "python",
   "nbconvert_exporter": "python",
   "pygments_lexer": "ipython3",
   "version": "3.8.5"
  }
 },
 "nbformat": 4,
 "nbformat_minor": 4
}
