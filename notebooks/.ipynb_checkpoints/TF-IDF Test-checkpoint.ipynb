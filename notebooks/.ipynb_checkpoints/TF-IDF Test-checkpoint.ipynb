{
 "cells": [
  {
   "cell_type": "code",
   "execution_count": 1,
   "metadata": {},
   "outputs": [],
   "source": [
    "# https://towardsdatascience.com/natural-language-processing-feature-engineering-using-tf-idf-e8b9d00e7e76"
   ]
  },
  {
   "cell_type": "code",
   "execution_count": 2,
   "metadata": {},
   "outputs": [],
   "source": [
    "import pandas as pd\n",
    "from sklearn.feature_extraction.text import TfidfVectorizer"
   ]
  },
  {
   "cell_type": "code",
   "execution_count": 3,
   "metadata": {},
   "outputs": [],
   "source": [
    "documentA = \"This is the first sentence\"\n",
    "documentB = \"Here is a second sentence\""
   ]
  },
  {
   "cell_type": "code",
   "execution_count": 4,
   "metadata": {},
   "outputs": [],
   "source": [
    "vectorizer = TfidfVectorizer()\n",
    "vectors = vectorizer.fit_transform([documentA, documentB])\n",
    "feature_names = vectorizer.get_feature_names()\n",
    "dense = vectors.todense()\n",
    "denselist = dense.tolist()\n",
    "df = pd.DataFrame(denselist, columns=feature_names)"
   ]
  },
  {
   "cell_type": "code",
   "execution_count": 5,
   "metadata": {},
   "outputs": [
    {
     "data": {
      "text/html": [
       "<style  type=\"text/css\" >\n",
       "</style><table id=\"T_9beb4cba_c93d_11eb_a2ef_acde48001122\" ><thead>    <tr>        <th class=\"blank level0\" ></th>        <th class=\"col_heading level0 col0\" >first</th>        <th class=\"col_heading level0 col1\" >here</th>        <th class=\"col_heading level0 col2\" >is</th>        <th class=\"col_heading level0 col3\" >second</th>        <th class=\"col_heading level0 col4\" >sentence</th>        <th class=\"col_heading level0 col5\" >the</th>        <th class=\"col_heading level0 col6\" >this</th>    </tr></thead><tbody>\n",
       "                <tr>\n",
       "                        <th id=\"T_9beb4cba_c93d_11eb_a2ef_acde48001122level0_row0\" class=\"row_heading level0 row0\" >0</th>\n",
       "                        <td id=\"T_9beb4cba_c93d_11eb_a2ef_acde48001122row0_col0\" class=\"data row0 col0\" >0.499221</td>\n",
       "                        <td id=\"T_9beb4cba_c93d_11eb_a2ef_acde48001122row0_col1\" class=\"data row0 col1\" >0.000000</td>\n",
       "                        <td id=\"T_9beb4cba_c93d_11eb_a2ef_acde48001122row0_col2\" class=\"data row0 col2\" >0.355200</td>\n",
       "                        <td id=\"T_9beb4cba_c93d_11eb_a2ef_acde48001122row0_col3\" class=\"data row0 col3\" >0.000000</td>\n",
       "                        <td id=\"T_9beb4cba_c93d_11eb_a2ef_acde48001122row0_col4\" class=\"data row0 col4\" >0.355200</td>\n",
       "                        <td id=\"T_9beb4cba_c93d_11eb_a2ef_acde48001122row0_col5\" class=\"data row0 col5\" >0.499221</td>\n",
       "                        <td id=\"T_9beb4cba_c93d_11eb_a2ef_acde48001122row0_col6\" class=\"data row0 col6\" >0.499221</td>\n",
       "            </tr>\n",
       "            <tr>\n",
       "                        <th id=\"T_9beb4cba_c93d_11eb_a2ef_acde48001122level0_row1\" class=\"row_heading level0 row1\" >1</th>\n",
       "                        <td id=\"T_9beb4cba_c93d_11eb_a2ef_acde48001122row1_col0\" class=\"data row1 col0\" >0.000000</td>\n",
       "                        <td id=\"T_9beb4cba_c93d_11eb_a2ef_acde48001122row1_col1\" class=\"data row1 col1\" >0.576152</td>\n",
       "                        <td id=\"T_9beb4cba_c93d_11eb_a2ef_acde48001122row1_col2\" class=\"data row1 col2\" >0.409937</td>\n",
       "                        <td id=\"T_9beb4cba_c93d_11eb_a2ef_acde48001122row1_col3\" class=\"data row1 col3\" >0.576152</td>\n",
       "                        <td id=\"T_9beb4cba_c93d_11eb_a2ef_acde48001122row1_col4\" class=\"data row1 col4\" >0.409937</td>\n",
       "                        <td id=\"T_9beb4cba_c93d_11eb_a2ef_acde48001122row1_col5\" class=\"data row1 col5\" >0.000000</td>\n",
       "                        <td id=\"T_9beb4cba_c93d_11eb_a2ef_acde48001122row1_col6\" class=\"data row1 col6\" >0.000000</td>\n",
       "            </tr>\n",
       "    </tbody></table>"
      ],
      "text/plain": [
       "<pandas.io.formats.style.Styler at 0x7ffb5ab9a9a0>"
      ]
     },
     "execution_count": 5,
     "metadata": {},
     "output_type": "execute_result"
    }
   ],
   "source": [
    "df.style"
   ]
  },
  {
   "cell_type": "code",
   "execution_count": null,
   "metadata": {},
   "outputs": [],
   "source": []
  }
 ],
 "metadata": {
  "kernelspec": {
   "display_name": "Python 3",
   "language": "python",
   "name": "python3"
  },
  "language_info": {
   "codemirror_mode": {
    "name": "ipython",
    "version": 3
   },
   "file_extension": ".py",
   "mimetype": "text/x-python",
   "name": "python",
   "nbconvert_exporter": "python",
   "pygments_lexer": "ipython3",
   "version": "3.8.5"
  }
 },
 "nbformat": 4,
 "nbformat_minor": 4
}
