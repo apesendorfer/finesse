{
 "cells": [
  {
   "cell_type": "code",
   "execution_count": 4,
   "metadata": {},
   "outputs": [
    {
     "name": "stdout",
     "output_type": "stream",
     "text": [
      "Requirement already satisfied: mxnet in /Users/alex/opt/anaconda3/lib/python3.8/site-packages (1.8.0.post0)\n",
      "Requirement already satisfied: requests<3,>=2.20.0 in /Users/alex/opt/anaconda3/lib/python3.8/site-packages (from mxnet) (2.24.0)\n",
      "Requirement already satisfied: numpy<2.0.0,>1.16.0 in /Users/alex/opt/anaconda3/lib/python3.8/site-packages (from mxnet) (1.19.2)\n",
      "Requirement already satisfied: graphviz<0.9.0,>=0.8.1 in /Users/alex/opt/anaconda3/lib/python3.8/site-packages (from mxnet) (0.8.4)\n",
      "Requirement already satisfied: idna<3,>=2.5 in /Users/alex/opt/anaconda3/lib/python3.8/site-packages (from requests<3,>=2.20.0->mxnet) (2.10)\n",
      "Requirement already satisfied: urllib3!=1.25.0,!=1.25.1,<1.26,>=1.21.1 in /Users/alex/opt/anaconda3/lib/python3.8/site-packages (from requests<3,>=2.20.0->mxnet) (1.25.11)\n",
      "Requirement already satisfied: certifi>=2017.4.17 in /Users/alex/opt/anaconda3/lib/python3.8/site-packages (from requests<3,>=2.20.0->mxnet) (2020.6.20)\n",
      "Requirement already satisfied: chardet<4,>=3.0.2 in /Users/alex/opt/anaconda3/lib/python3.8/site-packages (from requests<3,>=2.20.0->mxnet) (3.0.4)\n",
      "Collecting d2l\n",
      "  Downloading d2l-0.16.4-py3-none-any.whl (77 kB)\n",
      "\u001b[K     |████████████████████████████████| 77 kB 4.0 MB/s eta 0:00:011\n",
      "\u001b[?25hRequirement already satisfied, skipping upgrade: matplotlib in /Users/alex/opt/anaconda3/lib/python3.8/site-packages (from d2l) (3.3.2)\n",
      "Requirement already satisfied, skipping upgrade: numpy in /Users/alex/opt/anaconda3/lib/python3.8/site-packages (from d2l) (1.19.2)\n",
      "Requirement already satisfied, skipping upgrade: requests in /Users/alex/opt/anaconda3/lib/python3.8/site-packages (from d2l) (2.24.0)\n",
      "Requirement already satisfied, skipping upgrade: jupyter in /Users/alex/opt/anaconda3/lib/python3.8/site-packages (from d2l) (1.0.0)\n",
      "Requirement already satisfied, skipping upgrade: pandas in /Users/alex/opt/anaconda3/lib/python3.8/site-packages (from d2l) (1.1.3)\n",
      "Requirement already satisfied, skipping upgrade: python-dateutil>=2.1 in /Users/alex/opt/anaconda3/lib/python3.8/site-packages (from matplotlib->d2l) (2.8.1)\n",
      "Requirement already satisfied, skipping upgrade: pyparsing!=2.0.4,!=2.1.2,!=2.1.6,>=2.0.3 in /Users/alex/opt/anaconda3/lib/python3.8/site-packages (from matplotlib->d2l) (2.4.7)\n",
      "Requirement already satisfied, skipping upgrade: pillow>=6.2.0 in /Users/alex/opt/anaconda3/lib/python3.8/site-packages (from matplotlib->d2l) (8.0.1)\n",
      "Requirement already satisfied, skipping upgrade: certifi>=2020.06.20 in /Users/alex/opt/anaconda3/lib/python3.8/site-packages (from matplotlib->d2l) (2020.6.20)\n",
      "Requirement already satisfied, skipping upgrade: kiwisolver>=1.0.1 in /Users/alex/opt/anaconda3/lib/python3.8/site-packages (from matplotlib->d2l) (1.3.0)\n",
      "Requirement already satisfied, skipping upgrade: cycler>=0.10 in /Users/alex/opt/anaconda3/lib/python3.8/site-packages (from matplotlib->d2l) (0.10.0)\n",
      "Requirement already satisfied, skipping upgrade: idna<3,>=2.5 in /Users/alex/opt/anaconda3/lib/python3.8/site-packages (from requests->d2l) (2.10)\n",
      "Requirement already satisfied, skipping upgrade: urllib3!=1.25.0,!=1.25.1,<1.26,>=1.21.1 in /Users/alex/opt/anaconda3/lib/python3.8/site-packages (from requests->d2l) (1.25.11)\n",
      "Requirement already satisfied, skipping upgrade: chardet<4,>=3.0.2 in /Users/alex/opt/anaconda3/lib/python3.8/site-packages (from requests->d2l) (3.0.4)\n",
      "Requirement already satisfied, skipping upgrade: qtconsole in /Users/alex/opt/anaconda3/lib/python3.8/site-packages (from jupyter->d2l) (4.7.7)\n",
      "Requirement already satisfied, skipping upgrade: jupyter-console in /Users/alex/opt/anaconda3/lib/python3.8/site-packages (from jupyter->d2l) (6.2.0)\n",
      "Requirement already satisfied, skipping upgrade: ipykernel in /Users/alex/opt/anaconda3/lib/python3.8/site-packages (from jupyter->d2l) (5.3.4)\n",
      "Requirement already satisfied, skipping upgrade: ipywidgets in /Users/alex/opt/anaconda3/lib/python3.8/site-packages (from jupyter->d2l) (7.5.1)\n",
      "Requirement already satisfied, skipping upgrade: notebook in /Users/alex/opt/anaconda3/lib/python3.8/site-packages (from jupyter->d2l) (6.1.4)\n",
      "Requirement already satisfied, skipping upgrade: nbconvert in /Users/alex/opt/anaconda3/lib/python3.8/site-packages (from jupyter->d2l) (6.0.7)\n",
      "Requirement already satisfied, skipping upgrade: pytz>=2017.2 in /Users/alex/opt/anaconda3/lib/python3.8/site-packages (from pandas->d2l) (2020.1)\n",
      "Requirement already satisfied, skipping upgrade: six>=1.5 in /Users/alex/opt/anaconda3/lib/python3.8/site-packages (from python-dateutil>=2.1->matplotlib->d2l) (1.15.0)\n",
      "Requirement already satisfied, skipping upgrade: qtpy in /Users/alex/opt/anaconda3/lib/python3.8/site-packages (from qtconsole->jupyter->d2l) (1.9.0)\n",
      "Requirement already satisfied, skipping upgrade: pygments in /Users/alex/opt/anaconda3/lib/python3.8/site-packages (from qtconsole->jupyter->d2l) (2.7.2)\n",
      "Requirement already satisfied, skipping upgrade: traitlets in /Users/alex/opt/anaconda3/lib/python3.8/site-packages (from qtconsole->jupyter->d2l) (5.0.5)\n",
      "Requirement already satisfied, skipping upgrade: jupyter-client>=4.1 in /Users/alex/opt/anaconda3/lib/python3.8/site-packages (from qtconsole->jupyter->d2l) (6.1.7)\n",
      "Requirement already satisfied, skipping upgrade: pyzmq>=17.1 in /Users/alex/opt/anaconda3/lib/python3.8/site-packages (from qtconsole->jupyter->d2l) (19.0.2)\n",
      "Requirement already satisfied, skipping upgrade: jupyter-core in /Users/alex/opt/anaconda3/lib/python3.8/site-packages (from qtconsole->jupyter->d2l) (4.6.3)\n",
      "Requirement already satisfied, skipping upgrade: ipython-genutils in /Users/alex/opt/anaconda3/lib/python3.8/site-packages (from qtconsole->jupyter->d2l) (0.2.0)\n",
      "Requirement already satisfied, skipping upgrade: prompt-toolkit!=3.0.0,!=3.0.1,<3.1.0,>=2.0.0 in /Users/alex/opt/anaconda3/lib/python3.8/site-packages (from jupyter-console->jupyter->d2l) (3.0.8)\n",
      "Requirement already satisfied, skipping upgrade: ipython in /Users/alex/opt/anaconda3/lib/python3.8/site-packages (from jupyter-console->jupyter->d2l) (7.19.0)\n",
      "Requirement already satisfied, skipping upgrade: appnope; platform_system == \"Darwin\" in /Users/alex/opt/anaconda3/lib/python3.8/site-packages (from ipykernel->jupyter->d2l) (0.1.0)\n",
      "Requirement already satisfied, skipping upgrade: tornado>=4.2 in /Users/alex/opt/anaconda3/lib/python3.8/site-packages (from ipykernel->jupyter->d2l) (6.0.4)\n",
      "Requirement already satisfied, skipping upgrade: widgetsnbextension~=3.5.0 in /Users/alex/opt/anaconda3/lib/python3.8/site-packages (from ipywidgets->jupyter->d2l) (3.5.1)\n",
      "Requirement already satisfied, skipping upgrade: nbformat>=4.2.0 in /Users/alex/opt/anaconda3/lib/python3.8/site-packages (from ipywidgets->jupyter->d2l) (5.0.8)\n",
      "Requirement already satisfied, skipping upgrade: jinja2 in /Users/alex/opt/anaconda3/lib/python3.8/site-packages (from notebook->jupyter->d2l) (2.11.2)\n",
      "Requirement already satisfied, skipping upgrade: prometheus-client in /Users/alex/opt/anaconda3/lib/python3.8/site-packages (from notebook->jupyter->d2l) (0.8.0)\n",
      "Requirement already satisfied, skipping upgrade: Send2Trash in /Users/alex/opt/anaconda3/lib/python3.8/site-packages (from notebook->jupyter->d2l) (1.5.0)\n",
      "Requirement already satisfied, skipping upgrade: terminado>=0.8.3 in /Users/alex/opt/anaconda3/lib/python3.8/site-packages (from notebook->jupyter->d2l) (0.9.1)\n",
      "Requirement already satisfied, skipping upgrade: argon2-cffi in /Users/alex/opt/anaconda3/lib/python3.8/site-packages (from notebook->jupyter->d2l) (20.1.0)\n",
      "Requirement already satisfied, skipping upgrade: testpath in /Users/alex/opt/anaconda3/lib/python3.8/site-packages (from nbconvert->jupyter->d2l) (0.4.4)\n",
      "Requirement already satisfied, skipping upgrade: mistune<2,>=0.8.1 in /Users/alex/opt/anaconda3/lib/python3.8/site-packages (from nbconvert->jupyter->d2l) (0.8.4)\n",
      "Requirement already satisfied, skipping upgrade: pandocfilters>=1.4.1 in /Users/alex/opt/anaconda3/lib/python3.8/site-packages (from nbconvert->jupyter->d2l) (1.4.3)\n",
      "Requirement already satisfied, skipping upgrade: entrypoints>=0.2.2 in /Users/alex/opt/anaconda3/lib/python3.8/site-packages (from nbconvert->jupyter->d2l) (0.3)\n",
      "Requirement already satisfied, skipping upgrade: bleach in /Users/alex/opt/anaconda3/lib/python3.8/site-packages (from nbconvert->jupyter->d2l) (3.2.1)\n"
     ]
    },
    {
     "name": "stdout",
     "output_type": "stream",
     "text": [
      "Requirement already satisfied, skipping upgrade: defusedxml in /Users/alex/opt/anaconda3/lib/python3.8/site-packages (from nbconvert->jupyter->d2l) (0.6.0)\n",
      "Requirement already satisfied, skipping upgrade: jupyterlab-pygments in /Users/alex/opt/anaconda3/lib/python3.8/site-packages (from nbconvert->jupyter->d2l) (0.1.2)\n",
      "Requirement already satisfied, skipping upgrade: nbclient<0.6.0,>=0.5.0 in /Users/alex/opt/anaconda3/lib/python3.8/site-packages (from nbconvert->jupyter->d2l) (0.5.1)\n",
      "Requirement already satisfied, skipping upgrade: wcwidth in /Users/alex/opt/anaconda3/lib/python3.8/site-packages (from prompt-toolkit!=3.0.0,!=3.0.1,<3.1.0,>=2.0.0->jupyter-console->jupyter->d2l) (0.2.5)\n",
      "Requirement already satisfied, skipping upgrade: jedi>=0.10 in /Users/alex/opt/anaconda3/lib/python3.8/site-packages (from ipython->jupyter-console->jupyter->d2l) (0.17.1)\n",
      "Requirement already satisfied, skipping upgrade: pickleshare in /Users/alex/opt/anaconda3/lib/python3.8/site-packages (from ipython->jupyter-console->jupyter->d2l) (0.7.5)\n",
      "Requirement already satisfied, skipping upgrade: setuptools>=18.5 in /Users/alex/opt/anaconda3/lib/python3.8/site-packages (from ipython->jupyter-console->jupyter->d2l) (50.3.1.post20201107)\n",
      "Requirement already satisfied, skipping upgrade: backcall in /Users/alex/opt/anaconda3/lib/python3.8/site-packages (from ipython->jupyter-console->jupyter->d2l) (0.2.0)\n",
      "Requirement already satisfied, skipping upgrade: pexpect>4.3; sys_platform != \"win32\" in /Users/alex/opt/anaconda3/lib/python3.8/site-packages (from ipython->jupyter-console->jupyter->d2l) (4.8.0)\n",
      "Requirement already satisfied, skipping upgrade: decorator in /Users/alex/opt/anaconda3/lib/python3.8/site-packages (from ipython->jupyter-console->jupyter->d2l) (4.4.2)\n",
      "Requirement already satisfied, skipping upgrade: jsonschema!=2.5.0,>=2.4 in /Users/alex/opt/anaconda3/lib/python3.8/site-packages (from nbformat>=4.2.0->ipywidgets->jupyter->d2l) (3.2.0)\n",
      "Requirement already satisfied, skipping upgrade: MarkupSafe>=0.23 in /Users/alex/opt/anaconda3/lib/python3.8/site-packages (from jinja2->notebook->jupyter->d2l) (1.1.1)\n",
      "Requirement already satisfied, skipping upgrade: ptyprocess in /Users/alex/opt/anaconda3/lib/python3.8/site-packages (from terminado>=0.8.3->notebook->jupyter->d2l) (0.6.0)\n",
      "Requirement already satisfied, skipping upgrade: cffi>=1.0.0 in /Users/alex/opt/anaconda3/lib/python3.8/site-packages (from argon2-cffi->notebook->jupyter->d2l) (1.14.3)\n",
      "Requirement already satisfied, skipping upgrade: packaging in /Users/alex/opt/anaconda3/lib/python3.8/site-packages (from bleach->nbconvert->jupyter->d2l) (20.4)\n",
      "Requirement already satisfied, skipping upgrade: webencodings in /Users/alex/opt/anaconda3/lib/python3.8/site-packages (from bleach->nbconvert->jupyter->d2l) (0.5.1)\n",
      "Requirement already satisfied, skipping upgrade: nest-asyncio in /Users/alex/opt/anaconda3/lib/python3.8/site-packages (from nbclient<0.6.0,>=0.5.0->nbconvert->jupyter->d2l) (1.4.2)\n",
      "Requirement already satisfied, skipping upgrade: async-generator in /Users/alex/opt/anaconda3/lib/python3.8/site-packages (from nbclient<0.6.0,>=0.5.0->nbconvert->jupyter->d2l) (1.10)\n",
      "Requirement already satisfied, skipping upgrade: parso<0.8.0,>=0.7.0 in /Users/alex/opt/anaconda3/lib/python3.8/site-packages (from jedi>=0.10->ipython->jupyter-console->jupyter->d2l) (0.7.0)\n",
      "Requirement already satisfied, skipping upgrade: attrs>=17.4.0 in /Users/alex/opt/anaconda3/lib/python3.8/site-packages (from jsonschema!=2.5.0,>=2.4->nbformat>=4.2.0->ipywidgets->jupyter->d2l) (20.3.0)\n",
      "Requirement already satisfied, skipping upgrade: pyrsistent>=0.14.0 in /Users/alex/opt/anaconda3/lib/python3.8/site-packages (from jsonschema!=2.5.0,>=2.4->nbformat>=4.2.0->ipywidgets->jupyter->d2l) (0.17.3)\n",
      "Requirement already satisfied, skipping upgrade: pycparser in /Users/alex/opt/anaconda3/lib/python3.8/site-packages (from cffi>=1.0.0->argon2-cffi->notebook->jupyter->d2l) (2.20)\n",
      "Installing collected packages: d2l\n",
      "Successfully installed d2l-0.16.4\n"
     ]
    }
   ],
   "source": [
    "!python -m pip install mxnet\n",
    "!python -m pip install -U d2l\n",
    "\n",
    "import os\n",
    "from mxnet import np, npx\n",
    "from d2l import mxnet as d2l\n",
    "\n",
    "npx.set_np()"
   ]
  },
  {
   "cell_type": "code",
   "execution_count": 5,
   "metadata": {},
   "outputs": [],
   "source": [
    "#@save\n",
    "d2l.DATA_HUB['glove.6b.50d'] = (d2l.DATA_URL + 'glove.6B.50d.zip',\n",
    "                                '0b8703943ccdb6eb788e6f091b8946e82231bc4d')\n",
    "\n",
    "#@save\n",
    "d2l.DATA_HUB['glove.6b.100d'] = (d2l.DATA_URL + 'glove.6B.100d.zip',\n",
    "                                 'cd43bfb07e44e6f27cbcc7bc9ae3d80284fdaf5a')\n",
    "\n",
    "#@save\n",
    "d2l.DATA_HUB['glove.42b.300d'] = (d2l.DATA_URL + 'glove.42B.300d.zip',\n",
    "                                  'b5116e234e9eb9076672cfeabf5469f3eec904fa')\n",
    "\n",
    "#@save\n",
    "d2l.DATA_HUB['wiki.en'] = (d2l.DATA_URL + 'wiki.en.zip',\n",
    "                           'c1816da3821ae9f43899be655002f6c723e91b88')"
   ]
  },
  {
   "cell_type": "code",
   "execution_count": 6,
   "metadata": {},
   "outputs": [],
   "source": [
    "#@save\n",
    "class TokenEmbedding:\n",
    "    \"\"\"Token Embedding.\"\"\"\n",
    "    def __init__(self, embedding_name):\n",
    "        self.idx_to_token, self.idx_to_vec = self._load_embedding(\n",
    "            embedding_name)\n",
    "        self.unknown_idx = 0\n",
    "        self.token_to_idx = {\n",
    "            token: idx for idx, token in enumerate(self.idx_to_token)}\n",
    "\n",
    "    def _load_embedding(self, embedding_name):\n",
    "        idx_to_token, idx_to_vec = ['<unk>'], []\n",
    "        data_dir = d2l.download_extract(embedding_name)\n",
    "        # GloVe website: https://nlp.stanford.edu/projects/glove/\n",
    "        # fastText website: https://fasttext.cc/\n",
    "        with open(os.path.join(data_dir, 'vec.txt'), 'r') as f:\n",
    "            for line in f:\n",
    "                elems = line.rstrip().split(' ')\n",
    "                token, elems = elems[0], [float(elem) for elem in elems[1:]]\n",
    "                # Skip header information, such as the top row in fastText\n",
    "                if len(elems) > 1:\n",
    "                    idx_to_token.append(token)\n",
    "                    idx_to_vec.append(elems)\n",
    "        idx_to_vec = [[0] * len(idx_to_vec[0])] + idx_to_vec\n",
    "        return idx_to_token, np.array(idx_to_vec)\n",
    "\n",
    "    def __getitem__(self, tokens):\n",
    "        indices = [\n",
    "            self.token_to_idx.get(token, self.unknown_idx)\n",
    "            for token in tokens]\n",
    "        vecs = self.idx_to_vec[np.array(indices)]\n",
    "        return vecs\n",
    "\n",
    "    def __len__(self):\n",
    "        return len(self.idx_to_token)"
   ]
  },
  {
   "cell_type": "code",
   "execution_count": 7,
   "metadata": {},
   "outputs": [
    {
     "name": "stdout",
     "output_type": "stream",
     "text": [
      "Downloading ../data/glove.6B.50d.zip from http://d2l-data.s3-accelerate.amazonaws.com/glove.6B.50d.zip...\n"
     ]
    }
   ],
   "source": [
    "glove_6b50d = TokenEmbedding('glove.6b.50d')\n"
   ]
  },
  {
   "cell_type": "code",
   "execution_count": 8,
   "metadata": {},
   "outputs": [
    {
     "data": {
      "text/plain": [
       "400001"
      ]
     },
     "execution_count": 8,
     "metadata": {},
     "output_type": "execute_result"
    }
   ],
   "source": [
    "len(glove_6b50d)\n"
   ]
  },
  {
   "cell_type": "code",
   "execution_count": 9,
   "metadata": {},
   "outputs": [
    {
     "data": {
      "text/plain": [
       "(3367, 'beautiful')"
      ]
     },
     "execution_count": 9,
     "metadata": {},
     "output_type": "execute_result"
    }
   ],
   "source": [
    "glove_6b50d.token_to_idx['beautiful'], glove_6b50d.idx_to_token[3367]\n"
   ]
  },
  {
   "cell_type": "code",
   "execution_count": 10,
   "metadata": {},
   "outputs": [],
   "source": [
    "def knn(W, x, k):\n",
    "    # The added 1e-9 is for numerical stability\n",
    "    cos = np.dot(W, x.reshape(\n",
    "        -1,)) / (np.sqrt(np.sum(W * W, axis=1) + 1e-9) * np.sqrt(\n",
    "            (x * x).sum()))\n",
    "    topk = npx.topk(cos, k=k, ret_typ='indices')\n",
    "    return topk, [cos[int(i)] for i in topk]"
   ]
  },
  {
   "cell_type": "code",
   "execution_count": 11,
   "metadata": {},
   "outputs": [],
   "source": [
    "def get_similar_tokens(query_token, k, embed):\n",
    "    topk, cos = knn(embed.idx_to_vec, embed[[query_token]], k + 1)\n",
    "    for i, c in zip(topk[1:], cos[1:]):  # Remove input words\n",
    "        print(f'cosine sim={float(c):.3f}: {embed.idx_to_token[int(i)]}')"
   ]
  },
  {
   "cell_type": "code",
   "execution_count": 15,
   "metadata": {},
   "outputs": [
    {
     "name": "stdout",
     "output_type": "stream",
     "text": [
      "cosine sim=0.856: chips\n",
      "cosine sim=0.749: intel\n",
      "cosine sim=0.749: electronics\n"
     ]
    }
   ],
   "source": [
    "get_similar_tokens('chip', 3, glove_6b50d)"
   ]
  },
  {
   "cell_type": "code",
   "execution_count": 13,
   "metadata": {},
   "outputs": [
    {
     "name": "stdout",
     "output_type": "stream",
     "text": [
      "cosine sim=0.839: babies\n",
      "cosine sim=0.800: boy\n",
      "cosine sim=0.792: girl\n"
     ]
    }
   ],
   "source": [
    "get_similar_tokens('baby', 3, glove_6b50d)"
   ]
  },
  {
   "cell_type": "code",
   "execution_count": 14,
   "metadata": {},
   "outputs": [
    {
     "name": "stdout",
     "output_type": "stream",
     "text": [
      "cosine sim=0.921: lovely\n",
      "cosine sim=0.893: gorgeous\n",
      "cosine sim=0.830: wonderful\n"
     ]
    }
   ],
   "source": [
    "get_similar_tokens('beautiful', 3, glove_6b50d)"
   ]
  },
  {
   "cell_type": "code",
   "execution_count": 22,
   "metadata": {},
   "outputs": [
    {
     "name": "stdout",
     "output_type": "stream",
     "text": [
      "cosine sim=0.847: surmises\n",
      "cosine sim=0.832: theorises\n",
      "cosine sim=0.829: theorizes\n",
      "cosine sim=0.825: infers\n",
      "cosine sim=0.815: theorised\n",
      "cosine sim=0.806: posited\n",
      "cosine sim=0.780: opines\n",
      "cosine sim=0.780: supposes\n",
      "cosine sim=0.775: hypothesised\n",
      "cosine sim=0.769: speculates\n",
      "cosine sim=0.768: ascertains\n",
      "cosine sim=0.767: inferring\n",
      "cosine sim=0.764: posits\n",
      "cosine sim=0.751: discerns\n",
      "cosine sim=0.749: averred\n",
      "cosine sim=0.748: positing\n",
      "cosine sim=0.748: postulating\n",
      "cosine sim=0.740: surmising\n",
      "cosine sim=0.738: hypothesizing\n",
      "cosine sim=0.731: intimating\n"
     ]
    }
   ],
   "source": [
    "get_similar_tokens('hypothesizes', 20, glove_6b50d)"
   ]
  },
  {
   "cell_type": "code",
   "execution_count": 32,
   "metadata": {},
   "outputs": [
    {
     "name": "stdout",
     "output_type": "stream",
     "text": [
      "cosine sim=0.923: discussed\n",
      "cosine sim=0.892: talks\n",
      "cosine sim=0.891: discussions\n",
      "cosine sim=0.876: discussing\n",
      "cosine sim=0.864: meeting\n",
      "cosine sim=0.828: consultations\n",
      "cosine sim=0.827: negotiations\n",
      "cosine sim=0.824: meet\n",
      "cosine sim=0.820: cooperation\n",
      "cosine sim=0.816: meetings\n",
      "cosine sim=0.810: resume\n",
      "cosine sim=0.798: hoped\n",
      "cosine sim=0.794: agreed\n",
      "cosine sim=0.794: discussion\n",
      "cosine sim=0.792: agreement\n",
      "cosine sim=0.790: resolve\n",
      "cosine sim=0.788: stressed\n",
      "cosine sim=0.782: relations\n",
      "cosine sim=0.782: agree\n",
      "cosine sim=0.780: possibility\n"
     ]
    }
   ],
   "source": [
    "get_similar_tokens('discuss', 20, glove_6b50d)"
   ]
  },
  {
   "cell_type": "code",
   "execution_count": null,
   "metadata": {},
   "outputs": [],
   "source": []
  }
 ],
 "metadata": {
  "kernelspec": {
   "display_name": "Python 3",
   "language": "python",
   "name": "python3"
  },
  "language_info": {
   "codemirror_mode": {
    "name": "ipython",
    "version": 3
   },
   "file_extension": ".py",
   "mimetype": "text/x-python",
   "name": "python",
   "nbconvert_exporter": "python",
   "pygments_lexer": "ipython3",
   "version": "3.8.5"
  }
 },
 "nbformat": 4,
 "nbformat_minor": 4
}
