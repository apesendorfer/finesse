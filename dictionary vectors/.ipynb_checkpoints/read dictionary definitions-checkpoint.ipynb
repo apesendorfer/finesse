{
 "cells": [
  {
   "cell_type": "code",
   "execution_count": 1,
   "metadata": {},
   "outputs": [],
   "source": [
    "def readFile(text):\n",
    "    f = open(text)\n",
    "    s = f.read()\n",
    "    f.close()\n",
    "    return s"
   ]
  },
  {
   "cell_type": "code",
   "execution_count": 2,
   "metadata": {},
   "outputs": [],
   "source": [
    "s = readFile(\"dict.txt\")"
   ]
  },
  {
   "cell_type": "code",
   "execution_count": 3,
   "metadata": {},
   "outputs": [
    {
     "name": "stdout",
     "output_type": "stream",
     "text": [
      "4657147\n"
     ]
    }
   ],
   "source": [
    "print(len(s))"
   ]
  },
  {
   "cell_type": "code",
   "execution_count": 5,
   "metadata": {
    "scrolled": true
   },
   "outputs": [
    {
     "name": "stdout",
     "output_type": "stream",
     "text": [
      "A\n",
      "A1 /ei/ n. (pi. As or A's) 1 (also a) first letter of the alphabet. 2 Mus. sixth note\n",
      "of the diatonic scale of C major. 3 first hypothetical person or example. 4 high\u0002est category (of roads, marks, etc.). 5\n",
      "(usu. a) Algebra first known quantity. Al lei 'war/ colloq. first-rate, excellent, from A to B from one place to another, from A to Z from beginning to end. A2 abbr. (also A.) 1 ampere(s). 2 answer. a\n",
      "1 /a, ei/ adj. (also an /sen, an/ before a vowel sound) (called the indefinite art\u0002icle) 1 one, some, any. 2 one like (a Judas). 3 one single (not a chance). 4 the same (all of a size). 5 per (twice a year, seven a side). [Old English an one] a\n",
      "2 /a/ prep. (usu. as prefix) 1 to, towards\n",
      "(ashore; aside). 2 (with verb in pres.\n",
      "part, or infin.) doing or being\n",
      "(a-hunting; abuzz). 3 on (afire). 4 in (nowadays). [Old English an, on, on] A abbr. angstrom(s).\n",
      "a- prefix (also an- before a vowel sound)\n",
      "not, without (amoral). [Greek] AA abbr. 1 Automobile Association. 2 Alcoholics Anonymous. 3 \n"
     ]
    }
   ],
   "source": [
    "print(s[0:1000])"
   ]
  },
  {
   "cell_type": "code",
   "execution_count": 55,
   "metadata": {},
   "outputs": [],
   "source": [
    "# Code to build new string without text between start/end characters\n",
    "\n",
    "def removeParentheticals(s, start, end):\n",
    "    new = \"\"\n",
    "    i = 0\n",
    "    add = True\n",
    "    while i < len(s):\n",
    "        if s[i] == start:\n",
    "            add = False\n",
    "        if add:\n",
    "            new += s[i]\n",
    "        elif s[i] == end:\n",
    "            add = True\n",
    "        i += 1\n",
    "    return new"
   ]
  },
  {
   "cell_type": "code",
   "execution_count": 56,
   "metadata": {},
   "outputs": [],
   "source": [
    "new = removeParentheticals(s, \"[\", \"]\")"
   ]
  },
  {
   "cell_type": "code",
   "execution_count": 57,
   "metadata": {},
   "outputs": [
    {
     "name": "stdout",
     "output_type": "stream",
     "text": [
      "A\n",
      "A1 /ei/ n. (pi. As or A's) 1 (also a) first letter of the alphabet. 2 Mus. sixth note\n",
      "of the diatonic scale of C major. 3 first hypothetical person or example. 4 high\u0002est category (of roads, marks, etc.). 5\n",
      "(usu. a) Algebra first known quantity. Al lei 'war/ colloq. first-rate, excellent, from A to B from one place to another, from A to Z from beginning to end. A2 abbr. (also A.) 1 ampere(s). 2 answer. a\n",
      "1 /a, ei/ adj. (also an /sen, an/ before a vowel sound) (called the indefinite art\u0002icle) 1 one, some, any. 2 one like (a Judas). 3 one single (not a chance). 4 the same (all of a size). 5 per (twice a year, seven a side).  a\n",
      "2 /a/ prep. (usu. as prefix) 1 to, towards\n",
      "(ashore; aside). 2 (with verb in pres.\n",
      "part, or infin.) doing or being\n",
      "(a-hunting; abuzz). 3 on (afire). 4 in (nowadays).  A abbr. angstrom(s).\n",
      "a- prefix (also an- before a vowel sound)\n",
      "not, without (amoral).  AA abbr. 1 Automobile Association. 2 Alcoholics Anonymous. 3 anti-aircraft. aardvark /'a:dva:k/ n. mammal with a\n"
     ]
    }
   ],
   "source": [
    "print(new[0:1000])"
   ]
  },
  {
   "cell_type": "code",
   "execution_count": 58,
   "metadata": {},
   "outputs": [],
   "source": [
    "new = removeParentheticals(new, \"(\", \")\")"
   ]
  },
  {
   "cell_type": "code",
   "execution_count": 59,
   "metadata": {},
   "outputs": [
    {
     "name": "stdout",
     "output_type": "stream",
     "text": [
      "A\n",
      "A1 /ei/ n.  1  first letter of the alphabet. 2 Mus. sixth note\n",
      "of the diatonic scale of C major. 3 first hypothetical person or example. 4 high\u0002est category . 5\n",
      " Algebra first known quantity. Al lei 'war/ colloq. first-rate, excellent, from A to B from one place to another, from A to Z from beginning to end. A2 abbr.  1 ampere. 2 answer. a\n",
      "1 /a, ei/ adj.   1 one, some, any. 2 one like . 3 one single . 4 the same . 5 per .  a\n",
      "2 /a/ prep.  1 to, towards\n",
      ". 2  doing or being\n",
      ". 3 on . 4 in .  A abbr. angstrom.\n",
      "a- prefix \n",
      "not, without .  AA abbr. 1 Automobile Association. 2 Alcoholics Anonymous. 3 anti-aircraft. aardvark /'a:dva:k/ n. mammal with a tubular snout and a long tongue, feeding on termites.  ab- prefix off, away, from .\n",
      " aback /a'baek/ adv. take aback sur\u0002prise, disconcert.  abacus /'aebakas/ n.  1 frame\n",
      "with wires along which beads are slid for calculating. lArchit. flat slab on top\n",
      "of a capital.  abaft /a'ba:ft/ Naut. -adv. in the stern\n",
      "half of a ship. -prep, nearer the stern\n",
      "\n"
     ]
    }
   ],
   "source": [
    "print(new[0:1000])"
   ]
  },
  {
   "cell_type": "code",
   "execution_count": null,
   "metadata": {},
   "outputs": [],
   "source": []
  },
  {
   "cell_type": "code",
   "execution_count": null,
   "metadata": {},
   "outputs": [],
   "source": []
  },
  {
   "cell_type": "code",
   "execution_count": null,
   "metadata": {},
   "outputs": [],
   "source": []
  },
  {
   "cell_type": "code",
   "execution_count": null,
   "metadata": {},
   "outputs": [],
   "source": []
  },
  {
   "cell_type": "code",
   "execution_count": 18,
   "metadata": {},
   "outputs": [
    {
     "data": {
      "text/plain": [
       "\"e or language, [native name]\\nzygote /'zaigaut/ n. Biol, cell formed by\\nthe union of two gametes. [Greek zugo\\x02tos yoked: related to zeugma]APPENDIX\\n\""
      ]
     },
     "execution_count": 18,
     "metadata": {},
     "output_type": "execute_result"
    }
   ],
   "source": [
    "s[4657000:]"
   ]
  },
  {
   "cell_type": "code",
   "execution_count": null,
   "metadata": {},
   "outputs": [],
   "source": [
    "l = s.split()"
   ]
  },
  {
   "cell_type": "code",
   "execution_count": null,
   "metadata": {},
   "outputs": [],
   "source": [
    "print(l[0:1000])"
   ]
  },
  {
   "cell_type": "code",
   "execution_count": null,
   "metadata": {},
   "outputs": [],
   "source": [
    "pos = [\"n.\", \"adj.\", \"v.\", \"adv.\", \"prep.\"]"
   ]
  }
 ],
 "metadata": {
  "kernelspec": {
   "display_name": "Python 3",
   "language": "python",
   "name": "python3"
  },
  "language_info": {
   "codemirror_mode": {
    "name": "ipython",
    "version": 3
   },
   "file_extension": ".py",
   "mimetype": "text/x-python",
   "name": "python",
   "nbconvert_exporter": "python",
   "pygments_lexer": "ipython3",
   "version": "3.8.5"
  }
 },
 "nbformat": 4,
 "nbformat_minor": 4
}
